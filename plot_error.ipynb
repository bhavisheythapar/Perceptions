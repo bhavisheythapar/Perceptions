{
 "cells": [
  {
   "cell_type": "code",
   "execution_count": 229,
   "metadata": {},
   "outputs": [],
   "source": [
    "import plotly.express as px\n",
    "import plotly.graph_objects as go\n",
    "import pandas as pd\n",
    "import pickle\n",
    "import scipy\n",
    "from scipy import signal"
   ]
  },
  {
   "cell_type": "code",
   "execution_count": 230,
   "metadata": {},
   "outputs": [],
   "source": [
    "# Lood data from pickle file (Error vs. Keypoints)\n",
    "filename = './error_data/error_city_sift_1000.pkl'\n",
    "city_sift_1000     = pickle.load(open(filename, 'rb'))\n",
    "\n",
    "filename = './error_data/error_city_sift_5000.pkl'\n",
    "city_sift_5000     = pickle.load(open(filename, 'rb'))\n",
    "\n",
    "filename = './error_data/error_city_sift_10000.pkl'\n",
    "city_sift_10000     = pickle.load(open(filename, 'rb'))\n",
    "min_images = min(len(city_sift_1000), len(city_sift_5000), len(city_sift_10000))\n",
    "\n",
    "city_sift_1000 = city_sift_1000[:min_images]\n",
    "city_sift_5000 = city_sift_5000[:min_images]\n",
    "city_sift_10000 = city_sift_10000[:min_images]\n",
    "\n",
    "num_images = list(range(0, min_images))"
   ]
  },
  {
   "cell_type": "code",
   "execution_count": 231,
   "metadata": {},
   "outputs": [
    {
     "data": {
      "application/vnd.plotly.v1+json": {
       "config": {
        "plotlyServerURL": "https://plot.ly"
       },
       "data": [
        {
         "marker": {
          "color": "red",
          "size": 5
         },
         "mode": "lines+markers",
         "opacity": 0.2,
         "showlegend": false,
         "type": "scatter",
         "x": [
          0,
          1,
          2,
          3,
          4,
          5,
          6,
          7,
          8,
          9,
          10,
          11,
          12,
          13,
          14,
          15,
          16,
          17,
          18,
          19,
          20,
          21,
          22,
          23,
          24,
          25,
          26,
          27,
          28,
          29,
          30,
          31,
          32,
          33,
          34,
          35,
          36,
          37,
          38,
          39,
          40,
          41,
          42,
          43,
          44,
          45,
          46,
          47,
          48,
          49,
          50,
          51,
          52,
          53,
          54,
          55,
          56,
          57,
          58
         ],
         "y": [
          19.288321919483145,
          64.6024429367455,
          72.79367192868041,
          43.02513639581757,
          193.43581313904835,
          51.6071225816976,
          126.70991055355098,
          130.38519801562327,
          295.80406541978397,
          702.1801109008046,
          401.6422435706999,
          596.4002867098014,
          298.3719569906205,
          235.00183606230135,
          333.6414937945966,
          132.61202446127524,
          464.4225565393861,
          255.93399968989078,
          206.2035720509052,
          380.53275029284026,
          194.9967704470433,
          278.79178532782,
          250.43849210450037,
          257.4615398286485,
          171.34570685965556,
          225.1862839487586,
          146.92319528332402,
          149.01885534556556,
          139.57267005746922,
          260.46744474822657,
          503.20668180908854,
          108.29898560733481,
          127.72568338482174,
          64.42888269725906,
          460.7269981702186,
          104.8762225744672,
          315.97516213450706,
          210.83394122579287,
          456.165284721591,
          1188.1990079637524,
          541.6861138551548,
          332.2867904315689,
          377.1780148782668,
          488.599109406629,
          572.9776034379181,
          299.85120562642186,
          393.85194697583927,
          248.47775349319795,
          161.49219229131702,
          518.0348578691231,
          264.7652161587387,
          6.749318424213377,
          695.4825845767789,
          339.5322090112698,
          391.6533111452845,
          3.587701648833359,
          512.3951466642588,
          283.11552981877975,
          333.83391341174513
         ]
        },
        {
         "line": {
          "color": "red"
         },
         "mode": "lines",
         "name": "1000 Keypoints",
         "type": "scatter",
         "x": [
          0,
          1,
          2,
          3,
          4,
          5,
          6,
          7,
          8,
          9,
          10,
          11,
          12,
          13,
          14,
          15,
          16,
          17,
          18,
          19,
          20,
          21,
          22,
          23,
          24,
          25,
          26,
          27,
          28,
          29,
          30,
          31,
          32,
          33,
          34,
          35,
          36,
          37,
          38,
          39,
          40,
          41,
          42,
          43,
          44,
          45,
          46,
          47,
          48,
          49,
          50,
          51,
          52,
          53,
          54,
          55,
          56,
          57,
          58
         ],
         "y": [
          -52.60647663625068,
          -3.142108632834166,
          46.32225937058235,
          95.78662737399887,
          145.2509953774154,
          208.2185715442452,
          261.39835592155083,
          283.9561844277448,
          303.15385439439314,
          317.17442245994795,
          325.27491264790575,
          359.04617724648926,
          371.60105741391607,
          362.64100807702823,
          330.47627201623175,
          309.81172470386605,
          278.050874565668,
          273.25752807705595,
          275.50349845369067,
          259.2739197601965,
          268.53134570894485,
          236.78140958333864,
          226.08989514890612,
          219.42680494956252,
          207.4202743951012,
          238.24126553130571,
          221.19198555925718,
          208.92070468728932,
          189.61743897415033,
          218.55556810520665,
          206.5245619677775,
          223.42975865289583,
          229.61126724091855,
          261.27052870733075,
          354.0436850288833,
          357.89162823348994,
          380.2904087159133,
          405.23564186525783,
          447.65266453619483,
          458.8777250629648,
          478.3752233681602,
          486.16290185229343,
          489.927283079034,
          460.45997383600655,
          393.44355882654366,
          365.75146905690207,
          333.1977218561665,
          365.0281788260178,
          350.1214887864818,
          331.98905955721847,
          302.3627091594596,
          314.21702912830153,
          317.68080676085964,
          334.9149788729025,
          331.80985550943046,
          325.59960878248677,
          319.3893620555431,
          313.1791153285994,
          306.9688686016557
         ]
        },
        {
         "marker": {
          "color": "black",
          "size": 5
         },
         "mode": "lines+markers",
         "opacity": 0.2,
         "showlegend": false,
         "type": "scatter",
         "x": [
          0,
          1,
          2,
          3,
          4,
          5,
          6,
          7,
          8,
          9,
          10,
          11,
          12,
          13,
          14,
          15,
          16,
          17,
          18,
          19,
          20,
          21,
          22,
          23,
          24,
          25,
          26,
          27,
          28,
          29,
          30,
          31,
          32,
          33,
          34,
          35,
          36,
          37,
          38,
          39,
          40,
          41,
          42,
          43,
          44,
          45,
          46,
          47,
          48,
          49,
          50,
          51,
          52,
          53,
          54,
          55,
          56,
          57,
          58
         ],
         "y": [
          11.301827651874675,
          29.26285396547878,
          48.26932625584313,
          43.03349654129537,
          112.68827070010622,
          29.229977092309632,
          85.82571207741877,
          64.76149032320183,
          148.5600521671064,
          311.23469615891463,
          288.9495645552228,
          169.6534730782302,
          157.914655140277,
          171.8977261266242,
          448.63750541233435,
          284.40371741499564,
          327.8843073998659,
          119.31800534132105,
          287.6038351309781,
          241.62149656849863,
          175.76868495690266,
          159.27875226936413,
          231.22515512121979,
          187.9968013197819,
          117.36382402944236,
          155.46186793653553,
          117.7227704927082,
          147.58435847000462,
          167.1462746606041,
          113.69649494541517,
          132.62210115273308,
          124.31806714758179,
          99.3703776921275,
          218.56956407813462,
          133.84345128774643,
          280.59879158120316,
          222.65581781029917,
          125.50496340617524,
          148.2476345573674,
          352.8717245078359,
          106.6991061474332,
          349.96219477519367,
          224.20207101253976,
          364.99463541168194,
          208.47756692235907,
          93.77229023560452,
          38.10285575519608,
          145.74571703907188,
          285.6926305738542,
          162.78741025188253,
          243.71313452354906,
          225.62392338515284,
          250.78807117128997,
          234.44393896103279,
          288.60707981704775,
          261.4911486685618,
          526.3497426255822,
          338.8150833538201,
          378.4059149514511
         ]
        },
        {
         "line": {
          "color": "black"
         },
         "mode": "lines",
         "name": "5000 Keypoints",
         "type": "scatter",
         "x": [
          0,
          1,
          2,
          3,
          4,
          5,
          6,
          7,
          8,
          9,
          10,
          11,
          12,
          13,
          14,
          15,
          16,
          17,
          18,
          19,
          20,
          21,
          22,
          23,
          24,
          25,
          26,
          27,
          28,
          29,
          30,
          31,
          32,
          33,
          34,
          35,
          36,
          37,
          38,
          39,
          40,
          41,
          42,
          43,
          44,
          45,
          46,
          47,
          48,
          49,
          50,
          51,
          52,
          53,
          54,
          55,
          56,
          57,
          58
         ],
         "y": [
          -11.452012724248267,
          10.741050168552455,
          32.93411306135317,
          55.1271759541539,
          77.32023884695462,
          116.18154398368975,
          130.2206058949649,
          141.18513878340826,
          154.07156174194114,
          187.66648521316395,
          213.18385924543253,
          237.38971877767727,
          242.84537027948917,
          256.74974857587637,
          249.78842861683478,
          238.47034065700274,
          237.43286857611614,
          244.7639185742104,
          246.3738260935262,
          213.246457955237,
          200.35227300739098,
          179.33611931667522,
          182.1627546295436,
          170.1169985825062,
          157.3244984201978,
          153.00984003978084,
          149.51377152760264,
          136.32829378469341,
          139.38557006052872,
          141.0335327863591,
          153.54722515082588,
          164.04052988258496,
          161.832590376202,
          159.94272636587834,
          183.8602493221204,
          181.26794982159038,
          203.8323625843516,
          216.31553191639284,
          230.95803904974755,
          238.42145061320883,
          219.73880047864895,
          201.28350427313865,
          203.3075796364283,
          217.052079238077,
          198.04364781248168,
          211.7450506500933,
          199.3112235110892,
          201.9698235269642,
          188.91475388189932,
          196.92770517136816,
          213.69959101466387,
          262.5242797017025,
          281.8312163331773,
          291.10254477093696,
          303.8182467517188,
          329.24965071328234,
          354.68105467484594,
          380.11245863640954,
          405.54386259797315
         ]
        },
        {
         "marker": {
          "color": "orange",
          "size": 5
         },
         "mode": "lines+markers",
         "opacity": 0.2,
         "showlegend": false,
         "type": "scatter",
         "x": [
          0,
          1,
          2,
          3,
          4,
          5,
          6,
          7,
          8,
          9,
          10,
          11,
          12,
          13,
          14,
          15,
          16,
          17,
          18,
          19,
          20,
          21,
          22,
          23,
          24,
          25,
          26,
          27,
          28,
          29,
          30,
          31,
          32,
          33,
          34,
          35,
          36,
          37,
          38,
          39,
          40,
          41,
          42,
          43,
          44,
          45,
          46,
          47,
          48,
          49,
          50,
          51,
          52,
          53,
          54,
          55,
          56,
          57,
          58
         ],
         "y": [
          11.03,
          26.44,
          35.66,
          31.62,
          77.47,
          39.79,
          66.19,
          78.62,
          71.08,
          162.94,
          198.78,
          150.63,
          178.21,
          223.84,
          362.51,
          226.78,
          289.66,
          100.75,
          217.26,
          203.87,
          97.56,
          172.4,
          203.88,
          132.9,
          107.07,
          127.77,
          103.8,
          111.4,
          99.34,
          50.21,
          54.08,
          80.17,
          63.45,
          128.73,
          88.28,
          127.94,
          210.37,
          114.82,
          178.3,
          291.79,
          94.02,
          331.57,
          253.97,
          207.32,
          132.01,
          94.86,
          97.94,
          122.67,
          203.37,
          197.17,
          182.33,
          168.26,
          185.61,
          169.36,
          150.82,
          346.72,
          492.66,
          253.94,
          373.94
         ]
        },
        {
         "line": {
          "color": "orange"
         },
         "mode": "lines",
         "name": "10000 Keypoints",
         "type": "scatter",
         "x": [
          0,
          1,
          2,
          3,
          4,
          5,
          6,
          7,
          8,
          9,
          10,
          11,
          12,
          13,
          14,
          15,
          16,
          17,
          18,
          19,
          20,
          21,
          22,
          23,
          24,
          25,
          26,
          27,
          28,
          29,
          30,
          31,
          32,
          33,
          34,
          35,
          36,
          37,
          38,
          39,
          40,
          41,
          42,
          43,
          44,
          45,
          46,
          47,
          48,
          49,
          50,
          51,
          52,
          53,
          54,
          55,
          56,
          57,
          58
         ],
         "y": [
          6.615818181818202,
          18.49763636363638,
          30.379454545454564,
          42.26127272727274,
          54.14309090909093,
          78.859,
          91.278,
          105.533,
          124.755,
          153.259,
          171.958,
          194.305,
          196.518,
          211.136,
          215.22899999999998,
          205.107,
          207.284,
          209.851,
          200.757,
          175.213,
          165.31199999999998,
          146.72599999999997,
          147.79099999999997,
          135.999,
          120.63299999999998,
          116.285,
          107.062,
          93.01899999999999,
          92.60199999999999,
          90.72299999999998,
          90.74000000000001,
          101.397,
          101.739,
          109.63499999999999,
          133.793,
          137.78699999999998,
          162.92699999999996,
          181.97899999999998,
          189.83799999999997,
          194.21099999999998,
          190.90299999999996,
          179.65999999999997,
          180.445,
          182.952,
          173.48999999999998,
          182.32099999999997,
          165.99,
          159.154,
          155.358,
          157.239,
          182.425,
          221.89700000000002,
          235.024,
          252.081,
          264.74460606060603,
          290.0718181818182,
          315.39903030303026,
          340.7262424242424,
          366.05345454545454
         ]
        }
       ],
       "layout": {
        "legend": {
         "orientation": "h",
         "x": 1,
         "xanchor": "right",
         "y": 1.02,
         "yanchor": "bottom"
        },
        "template": {
         "data": {
          "bar": [
           {
            "error_x": {
             "color": "#2a3f5f"
            },
            "error_y": {
             "color": "#2a3f5f"
            },
            "marker": {
             "line": {
              "color": "#E5ECF6",
              "width": 0.5
             },
             "pattern": {
              "fillmode": "overlay",
              "size": 10,
              "solidity": 0.2
             }
            },
            "type": "bar"
           }
          ],
          "barpolar": [
           {
            "marker": {
             "line": {
              "color": "#E5ECF6",
              "width": 0.5
             },
             "pattern": {
              "fillmode": "overlay",
              "size": 10,
              "solidity": 0.2
             }
            },
            "type": "barpolar"
           }
          ],
          "carpet": [
           {
            "aaxis": {
             "endlinecolor": "#2a3f5f",
             "gridcolor": "white",
             "linecolor": "white",
             "minorgridcolor": "white",
             "startlinecolor": "#2a3f5f"
            },
            "baxis": {
             "endlinecolor": "#2a3f5f",
             "gridcolor": "white",
             "linecolor": "white",
             "minorgridcolor": "white",
             "startlinecolor": "#2a3f5f"
            },
            "type": "carpet"
           }
          ],
          "choropleth": [
           {
            "colorbar": {
             "outlinewidth": 0,
             "ticks": ""
            },
            "type": "choropleth"
           }
          ],
          "contour": [
           {
            "colorbar": {
             "outlinewidth": 0,
             "ticks": ""
            },
            "colorscale": [
             [
              0,
              "#0d0887"
             ],
             [
              0.1111111111111111,
              "#46039f"
             ],
             [
              0.2222222222222222,
              "#7201a8"
             ],
             [
              0.3333333333333333,
              "#9c179e"
             ],
             [
              0.4444444444444444,
              "#bd3786"
             ],
             [
              0.5555555555555556,
              "#d8576b"
             ],
             [
              0.6666666666666666,
              "#ed7953"
             ],
             [
              0.7777777777777778,
              "#fb9f3a"
             ],
             [
              0.8888888888888888,
              "#fdca26"
             ],
             [
              1,
              "#f0f921"
             ]
            ],
            "type": "contour"
           }
          ],
          "contourcarpet": [
           {
            "colorbar": {
             "outlinewidth": 0,
             "ticks": ""
            },
            "type": "contourcarpet"
           }
          ],
          "heatmap": [
           {
            "colorbar": {
             "outlinewidth": 0,
             "ticks": ""
            },
            "colorscale": [
             [
              0,
              "#0d0887"
             ],
             [
              0.1111111111111111,
              "#46039f"
             ],
             [
              0.2222222222222222,
              "#7201a8"
             ],
             [
              0.3333333333333333,
              "#9c179e"
             ],
             [
              0.4444444444444444,
              "#bd3786"
             ],
             [
              0.5555555555555556,
              "#d8576b"
             ],
             [
              0.6666666666666666,
              "#ed7953"
             ],
             [
              0.7777777777777778,
              "#fb9f3a"
             ],
             [
              0.8888888888888888,
              "#fdca26"
             ],
             [
              1,
              "#f0f921"
             ]
            ],
            "type": "heatmap"
           }
          ],
          "heatmapgl": [
           {
            "colorbar": {
             "outlinewidth": 0,
             "ticks": ""
            },
            "colorscale": [
             [
              0,
              "#0d0887"
             ],
             [
              0.1111111111111111,
              "#46039f"
             ],
             [
              0.2222222222222222,
              "#7201a8"
             ],
             [
              0.3333333333333333,
              "#9c179e"
             ],
             [
              0.4444444444444444,
              "#bd3786"
             ],
             [
              0.5555555555555556,
              "#d8576b"
             ],
             [
              0.6666666666666666,
              "#ed7953"
             ],
             [
              0.7777777777777778,
              "#fb9f3a"
             ],
             [
              0.8888888888888888,
              "#fdca26"
             ],
             [
              1,
              "#f0f921"
             ]
            ],
            "type": "heatmapgl"
           }
          ],
          "histogram": [
           {
            "marker": {
             "pattern": {
              "fillmode": "overlay",
              "size": 10,
              "solidity": 0.2
             }
            },
            "type": "histogram"
           }
          ],
          "histogram2d": [
           {
            "colorbar": {
             "outlinewidth": 0,
             "ticks": ""
            },
            "colorscale": [
             [
              0,
              "#0d0887"
             ],
             [
              0.1111111111111111,
              "#46039f"
             ],
             [
              0.2222222222222222,
              "#7201a8"
             ],
             [
              0.3333333333333333,
              "#9c179e"
             ],
             [
              0.4444444444444444,
              "#bd3786"
             ],
             [
              0.5555555555555556,
              "#d8576b"
             ],
             [
              0.6666666666666666,
              "#ed7953"
             ],
             [
              0.7777777777777778,
              "#fb9f3a"
             ],
             [
              0.8888888888888888,
              "#fdca26"
             ],
             [
              1,
              "#f0f921"
             ]
            ],
            "type": "histogram2d"
           }
          ],
          "histogram2dcontour": [
           {
            "colorbar": {
             "outlinewidth": 0,
             "ticks": ""
            },
            "colorscale": [
             [
              0,
              "#0d0887"
             ],
             [
              0.1111111111111111,
              "#46039f"
             ],
             [
              0.2222222222222222,
              "#7201a8"
             ],
             [
              0.3333333333333333,
              "#9c179e"
             ],
             [
              0.4444444444444444,
              "#bd3786"
             ],
             [
              0.5555555555555556,
              "#d8576b"
             ],
             [
              0.6666666666666666,
              "#ed7953"
             ],
             [
              0.7777777777777778,
              "#fb9f3a"
             ],
             [
              0.8888888888888888,
              "#fdca26"
             ],
             [
              1,
              "#f0f921"
             ]
            ],
            "type": "histogram2dcontour"
           }
          ],
          "mesh3d": [
           {
            "colorbar": {
             "outlinewidth": 0,
             "ticks": ""
            },
            "type": "mesh3d"
           }
          ],
          "parcoords": [
           {
            "line": {
             "colorbar": {
              "outlinewidth": 0,
              "ticks": ""
             }
            },
            "type": "parcoords"
           }
          ],
          "pie": [
           {
            "automargin": true,
            "type": "pie"
           }
          ],
          "scatter": [
           {
            "fillpattern": {
             "fillmode": "overlay",
             "size": 10,
             "solidity": 0.2
            },
            "type": "scatter"
           }
          ],
          "scatter3d": [
           {
            "line": {
             "colorbar": {
              "outlinewidth": 0,
              "ticks": ""
             }
            },
            "marker": {
             "colorbar": {
              "outlinewidth": 0,
              "ticks": ""
             }
            },
            "type": "scatter3d"
           }
          ],
          "scattercarpet": [
           {
            "marker": {
             "colorbar": {
              "outlinewidth": 0,
              "ticks": ""
             }
            },
            "type": "scattercarpet"
           }
          ],
          "scattergeo": [
           {
            "marker": {
             "colorbar": {
              "outlinewidth": 0,
              "ticks": ""
             }
            },
            "type": "scattergeo"
           }
          ],
          "scattergl": [
           {
            "marker": {
             "colorbar": {
              "outlinewidth": 0,
              "ticks": ""
             }
            },
            "type": "scattergl"
           }
          ],
          "scattermapbox": [
           {
            "marker": {
             "colorbar": {
              "outlinewidth": 0,
              "ticks": ""
             }
            },
            "type": "scattermapbox"
           }
          ],
          "scatterpolar": [
           {
            "marker": {
             "colorbar": {
              "outlinewidth": 0,
              "ticks": ""
             }
            },
            "type": "scatterpolar"
           }
          ],
          "scatterpolargl": [
           {
            "marker": {
             "colorbar": {
              "outlinewidth": 0,
              "ticks": ""
             }
            },
            "type": "scatterpolargl"
           }
          ],
          "scatterternary": [
           {
            "marker": {
             "colorbar": {
              "outlinewidth": 0,
              "ticks": ""
             }
            },
            "type": "scatterternary"
           }
          ],
          "surface": [
           {
            "colorbar": {
             "outlinewidth": 0,
             "ticks": ""
            },
            "colorscale": [
             [
              0,
              "#0d0887"
             ],
             [
              0.1111111111111111,
              "#46039f"
             ],
             [
              0.2222222222222222,
              "#7201a8"
             ],
             [
              0.3333333333333333,
              "#9c179e"
             ],
             [
              0.4444444444444444,
              "#bd3786"
             ],
             [
              0.5555555555555556,
              "#d8576b"
             ],
             [
              0.6666666666666666,
              "#ed7953"
             ],
             [
              0.7777777777777778,
              "#fb9f3a"
             ],
             [
              0.8888888888888888,
              "#fdca26"
             ],
             [
              1,
              "#f0f921"
             ]
            ],
            "type": "surface"
           }
          ],
          "table": [
           {
            "cells": {
             "fill": {
              "color": "#EBF0F8"
             },
             "line": {
              "color": "white"
             }
            },
            "header": {
             "fill": {
              "color": "#C8D4E3"
             },
             "line": {
              "color": "white"
             }
            },
            "type": "table"
           }
          ]
         },
         "layout": {
          "annotationdefaults": {
           "arrowcolor": "#2a3f5f",
           "arrowhead": 0,
           "arrowwidth": 1
          },
          "autotypenumbers": "strict",
          "coloraxis": {
           "colorbar": {
            "outlinewidth": 0,
            "ticks": ""
           }
          },
          "colorscale": {
           "diverging": [
            [
             0,
             "#8e0152"
            ],
            [
             0.1,
             "#c51b7d"
            ],
            [
             0.2,
             "#de77ae"
            ],
            [
             0.3,
             "#f1b6da"
            ],
            [
             0.4,
             "#fde0ef"
            ],
            [
             0.5,
             "#f7f7f7"
            ],
            [
             0.6,
             "#e6f5d0"
            ],
            [
             0.7,
             "#b8e186"
            ],
            [
             0.8,
             "#7fbc41"
            ],
            [
             0.9,
             "#4d9221"
            ],
            [
             1,
             "#276419"
            ]
           ],
           "sequential": [
            [
             0,
             "#0d0887"
            ],
            [
             0.1111111111111111,
             "#46039f"
            ],
            [
             0.2222222222222222,
             "#7201a8"
            ],
            [
             0.3333333333333333,
             "#9c179e"
            ],
            [
             0.4444444444444444,
             "#bd3786"
            ],
            [
             0.5555555555555556,
             "#d8576b"
            ],
            [
             0.6666666666666666,
             "#ed7953"
            ],
            [
             0.7777777777777778,
             "#fb9f3a"
            ],
            [
             0.8888888888888888,
             "#fdca26"
            ],
            [
             1,
             "#f0f921"
            ]
           ],
           "sequentialminus": [
            [
             0,
             "#0d0887"
            ],
            [
             0.1111111111111111,
             "#46039f"
            ],
            [
             0.2222222222222222,
             "#7201a8"
            ],
            [
             0.3333333333333333,
             "#9c179e"
            ],
            [
             0.4444444444444444,
             "#bd3786"
            ],
            [
             0.5555555555555556,
             "#d8576b"
            ],
            [
             0.6666666666666666,
             "#ed7953"
            ],
            [
             0.7777777777777778,
             "#fb9f3a"
            ],
            [
             0.8888888888888888,
             "#fdca26"
            ],
            [
             1,
             "#f0f921"
            ]
           ]
          },
          "colorway": [
           "#636efa",
           "#EF553B",
           "#00cc96",
           "#ab63fa",
           "#FFA15A",
           "#19d3f3",
           "#FF6692",
           "#B6E880",
           "#FF97FF",
           "#FECB52"
          ],
          "font": {
           "color": "#2a3f5f"
          },
          "geo": {
           "bgcolor": "white",
           "lakecolor": "white",
           "landcolor": "#E5ECF6",
           "showlakes": true,
           "showland": true,
           "subunitcolor": "white"
          },
          "hoverlabel": {
           "align": "left"
          },
          "hovermode": "closest",
          "mapbox": {
           "style": "light"
          },
          "paper_bgcolor": "white",
          "plot_bgcolor": "#E5ECF6",
          "polar": {
           "angularaxis": {
            "gridcolor": "white",
            "linecolor": "white",
            "ticks": ""
           },
           "bgcolor": "#E5ECF6",
           "radialaxis": {
            "gridcolor": "white",
            "linecolor": "white",
            "ticks": ""
           }
          },
          "scene": {
           "xaxis": {
            "backgroundcolor": "#E5ECF6",
            "gridcolor": "white",
            "gridwidth": 2,
            "linecolor": "white",
            "showbackground": true,
            "ticks": "",
            "zerolinecolor": "white"
           },
           "yaxis": {
            "backgroundcolor": "#E5ECF6",
            "gridcolor": "white",
            "gridwidth": 2,
            "linecolor": "white",
            "showbackground": true,
            "ticks": "",
            "zerolinecolor": "white"
           },
           "zaxis": {
            "backgroundcolor": "#E5ECF6",
            "gridcolor": "white",
            "gridwidth": 2,
            "linecolor": "white",
            "showbackground": true,
            "ticks": "",
            "zerolinecolor": "white"
           }
          },
          "shapedefaults": {
           "line": {
            "color": "#2a3f5f"
           }
          },
          "ternary": {
           "aaxis": {
            "gridcolor": "white",
            "linecolor": "white",
            "ticks": ""
           },
           "baxis": {
            "gridcolor": "white",
            "linecolor": "white",
            "ticks": ""
           },
           "bgcolor": "#E5ECF6",
           "caxis": {
            "gridcolor": "white",
            "linecolor": "white",
            "ticks": ""
           }
          },
          "title": {
           "x": 0.05
          },
          "xaxis": {
           "automargin": true,
           "gridcolor": "white",
           "linecolor": "white",
           "ticks": "",
           "title": {
            "standoff": 15
           },
           "zerolinecolor": "white",
           "zerolinewidth": 2
          },
          "yaxis": {
           "automargin": true,
           "gridcolor": "white",
           "linecolor": "white",
           "ticks": "",
           "title": {
            "standoff": 15
           },
           "zerolinecolor": "white",
           "zerolinewidth": 2
          }
         }
        },
        "xaxis": {
         "range": [
          0,
          59
         ],
         "title": {
          "text": "Number of Images"
         }
        },
        "yaxis": {
         "title": {
          "text": "Reprojection Error (px)"
         }
        }
       }
      }
     },
     "metadata": {},
     "output_type": "display_data"
    }
   ],
   "source": [
    "# Plot Error for Different Keypoints\n",
    "fig1 = go.Figure()\n",
    "\n",
    "# Add trace for 1000 keypoints\n",
    "fig1.add_trace(go.Scatter(\n",
    "    x = num_images,\n",
    "    y = city_sift_1000,\n",
    "    mode = 'lines+markers',\n",
    "    marker = dict(\n",
    "        size = 5,\n",
    "        color = 'red',\n",
    "    ),\n",
    "    opacity = 0.2,\n",
    "    showlegend=False\n",
    "))\n",
    "\n",
    "fig1.add_trace(go.Scatter(\n",
    "    x = num_images,\n",
    "    y = signal.savgol_filter(city_sift_1000,\n",
    "                           10,\n",
    "                           1),\n",
    "    mode='lines',\n",
    "    line=go.scatter.Line(color=\"red\"),\n",
    "    name='1000 Keypoints'\n",
    "))\n",
    "\n",
    "# Add trace for 5000 keypoints\n",
    "fig1.add_trace(go.Scatter(\n",
    "    x = num_images,\n",
    "    y = city_sift_5000,\n",
    "    mode = 'lines+markers',\n",
    "    marker = dict(\n",
    "        size = 5,\n",
    "        color = 'black',\n",
    "    ),\n",
    "    opacity = 0.2,\n",
    "    showlegend=False\n",
    "))\n",
    "\n",
    "fig1.add_trace(go.Scatter(\n",
    "    x = num_images,\n",
    "    y = signal.savgol_filter(city_sift_5000,\n",
    "                           10,\n",
    "                           1),\n",
    "    mode='lines',\n",
    "    line=go.scatter.Line(color=\"black\"),\n",
    "    name='5000 Keypoints'\n",
    "))\n",
    "\n",
    "# Add trace for 10000 keypoints\n",
    "fig1.add_trace(go.Scatter(\n",
    "    x = num_images,\n",
    "    y = city_sift_10000,\n",
    "    mode = 'lines+markers',\n",
    "    marker = dict(\n",
    "        size = 5,\n",
    "        color = 'orange',\n",
    "    ),\n",
    "    opacity = 0.2,\n",
    "    showlegend=False\n",
    "))\n",
    "\n",
    "fig1.add_trace(go.Scatter(\n",
    "    x = num_images,\n",
    "    y = signal.savgol_filter(city_sift_10000,\n",
    "                           10,\n",
    "                           1),\n",
    "    mode='lines',\n",
    "    line=go.scatter.Line(color='orange'),\n",
    "    name='10000 Keypoints'\n",
    "))\n",
    "\n",
    "fig1.update_layout(\n",
    "    legend=dict(\n",
    "    orientation=\"h\",\n",
    "    yanchor=\"bottom\",\n",
    "    y=1.02,\n",
    "    xanchor=\"right\",\n",
    "    x=1),\n",
    "    xaxis_title=\"Number of Images\",\n",
    "    yaxis_title=\"Reprojection Error (px)\",\n",
    "    xaxis_range=[0, min_images],\n",
    ")\n",
    "\n",
    "fig1.show()"
   ]
  },
  {
   "cell_type": "code",
   "execution_count": 232,
   "metadata": {},
   "outputs": [],
   "source": [
    "# Lood data from pickle file (Error vs. Feature Detector)\n",
    "filename = './error_data/error_city_brief_NA.pkl'\n",
    "brief    = pickle.load(open(filename, 'rb'))\n",
    "\n",
    "filename = './error_data/error_city_orb_10000.pkl'\n",
    "orb      = pickle.load(open(filename, 'rb'))\n",
    "\n",
    "filename = './error_data/error_city_sift_10000.pkl'\n",
    "sift     = pickle.load(open(filename, 'rb'))\n",
    "min_images = min(len(brief), len(orb), len(sift))\n",
    "\n",
    "brief = brief[:min_images]\n",
    "orb = orb[:min_images]\n",
    "sift = sift[:min_images]\n",
    "\n",
    "num_images = list(range(0, min_images))"
   ]
  },
  {
   "cell_type": "code",
   "execution_count": 233,
   "metadata": {},
   "outputs": [
    {
     "data": {
      "application/vnd.plotly.v1+json": {
       "config": {
        "plotlyServerURL": "https://plot.ly"
       },
       "data": [
        {
         "marker": {
          "color": "red",
          "size": 5
         },
         "mode": "lines+markers",
         "opacity": 0.2,
         "showlegend": false,
         "type": "scatter",
         "x": [
          0,
          1,
          2,
          3,
          4,
          5,
          6,
          7,
          8,
          9,
          10,
          11,
          12,
          13,
          14,
          15,
          16,
          17,
          18,
          19,
          20,
          21,
          22,
          23,
          24,
          25,
          26,
          27,
          28
         ],
         "y": [
          16.5,
          69.12,
          71.02,
          84.82,
          245.44,
          219.25,
          305.58,
          361.28,
          542.27,
          775.79,
          496.1,
          707.15,
          568.99,
          678.45,
          1051.48,
          968.57,
          1124.2,
          257.26,
          789.49,
          845.41,
          303.76,
          826.46,
          761.14,
          381.61,
          350.68,
          414.08,
          401.86,
          442.12,
          542.32
         ]
        },
        {
         "line": {
          "color": "red"
         },
         "mode": "lines",
         "name": "BRIEF",
         "type": "scatter",
         "x": [
          0,
          1,
          2,
          3,
          4,
          5,
          6,
          7,
          8,
          9,
          10,
          11,
          12,
          13,
          14,
          15,
          16,
          17,
          18,
          19,
          20,
          21,
          22,
          23,
          24,
          25,
          26,
          27,
          28
         ],
         "y": [
          -64.5216363636363,
          9.618060606060652,
          83.75775757575761,
          157.89745454545456,
          232.03715151515152,
          317.067,
          380.87,
          430.667,
          490.03,
          570.634,
          645.566,
          727.428,
          717.026,
          741.7479999999999,
          748.7099999999999,
          729.4759999999999,
          741.4069999999999,
          760.6219999999998,
          730.938,
          660.858,
          605.4090000000001,
          533.175,
          551.661,
          526.944,
          511.9306666666664,
          481.9039999999997,
          451.87733333333307,
          421.8506666666664,
          391.8239999999998
         ]
        },
        {
         "marker": {
          "color": "blue",
          "size": 5
         },
         "mode": "lines+markers",
         "opacity": 0.2,
         "showlegend": false,
         "type": "scatter",
         "x": [
          0,
          1,
          2,
          3,
          4,
          5,
          6,
          7,
          8,
          9,
          10,
          11,
          12,
          13,
          14,
          15,
          16,
          17,
          18,
          19,
          20,
          21,
          22,
          23,
          24,
          25,
          26,
          27,
          28
         ],
         "y": [
          11.03,
          26.44,
          35.66,
          31.62,
          77.47,
          39.79,
          66.19,
          78.62,
          71.08,
          162.94,
          198.78,
          150.63,
          178.21,
          223.84,
          362.51,
          226.78,
          289.66,
          100.75,
          217.26,
          203.87,
          97.56,
          172.4,
          203.88,
          132.9,
          107.07,
          127.77,
          103.8,
          111.4,
          99.34
         ]
        },
        {
         "line": {
          "color": "blue"
         },
         "mode": "lines",
         "name": "SIFT",
         "type": "scatter",
         "x": [
          0,
          1,
          2,
          3,
          4,
          5,
          6,
          7,
          8,
          9,
          10,
          11,
          12,
          13,
          14,
          15,
          16,
          17,
          18,
          19,
          20,
          21,
          22,
          23,
          24,
          25,
          26,
          27,
          28
         ],
         "y": [
          6.615818181818202,
          18.49763636363638,
          30.379454545454564,
          42.26127272727274,
          54.14309090909093,
          78.859,
          91.278,
          105.533,
          124.755,
          153.259,
          171.958,
          194.305,
          196.518,
          211.136,
          215.22899999999998,
          205.107,
          207.284,
          209.851,
          200.757,
          175.213,
          165.31199999999998,
          146.72599999999997,
          147.79099999999997,
          135.999,
          131.63218181818172,
          122.89854545454537,
          114.164909090909,
          105.43127272727264,
          96.69763636363628
         ]
        },
        {
         "marker": {
          "color": "black",
          "size": 5
         },
         "mode": "lines+markers",
         "opacity": 0.2,
         "showlegend": false,
         "type": "scatter",
         "x": [
          0,
          1,
          2,
          3,
          4,
          5,
          6,
          7,
          8,
          9,
          10,
          11,
          12,
          13,
          14,
          15,
          16,
          17,
          18,
          19,
          20,
          21,
          22,
          23,
          24,
          25,
          26,
          27,
          28
         ],
         "y": [
          33.73,
          86.72,
          132.83,
          213.68,
          377.52,
          300.87,
          353.76,
          513.31,
          668.81,
          860.79,
          907.27,
          983.88,
          464.28,
          505.17,
          1307.07,
          1265.73,
          1057.25,
          561.77,
          1366.72,
          1930.92,
          4838.07,
          10466.71,
          7364.74,
          4181.76,
          5446.35,
          7680.45,
          6476.27,
          5104.37,
          6224.98
         ]
        },
        {
         "line": {
          "color": "black"
         },
         "mode": "lines",
         "name": "ORB",
         "type": "scatter",
         "x": [
          0,
          1,
          2,
          3,
          4,
          5,
          6,
          7,
          8,
          9,
          10,
          11,
          12,
          13,
          14,
          15,
          16,
          17,
          18,
          19,
          20,
          21,
          22,
          23,
          24,
          25,
          26,
          27,
          28
         ],
         "y": [
          -21.184181818181642,
          62.234969696969856,
          145.65412121212137,
          229.07327272727287,
          312.49242424242436,
          441.556,
          531.272,
          564.4169999999999,
          593.5659999999999,
          686.521,
          783.007,
          853.356,
          858.202,
          927.993,
          1035.006,
          1428.0859999999998,
          2376.369,
          3066.4149999999995,
          3434.0739999999996,
          3848.002,
          4489.473999999999,
          5031.375999999999,
          5485.636,
          5971.4619999999995,
          6040.462484848482,
          6178.463454545452,
          6316.464424242421,
          6454.46539393939,
          6592.46636363636
         ]
        }
       ],
       "layout": {
        "legend": {
         "orientation": "h",
         "x": 1,
         "xanchor": "right",
         "y": 1.02,
         "yanchor": "bottom"
        },
        "template": {
         "data": {
          "bar": [
           {
            "error_x": {
             "color": "#2a3f5f"
            },
            "error_y": {
             "color": "#2a3f5f"
            },
            "marker": {
             "line": {
              "color": "#E5ECF6",
              "width": 0.5
             },
             "pattern": {
              "fillmode": "overlay",
              "size": 10,
              "solidity": 0.2
             }
            },
            "type": "bar"
           }
          ],
          "barpolar": [
           {
            "marker": {
             "line": {
              "color": "#E5ECF6",
              "width": 0.5
             },
             "pattern": {
              "fillmode": "overlay",
              "size": 10,
              "solidity": 0.2
             }
            },
            "type": "barpolar"
           }
          ],
          "carpet": [
           {
            "aaxis": {
             "endlinecolor": "#2a3f5f",
             "gridcolor": "white",
             "linecolor": "white",
             "minorgridcolor": "white",
             "startlinecolor": "#2a3f5f"
            },
            "baxis": {
             "endlinecolor": "#2a3f5f",
             "gridcolor": "white",
             "linecolor": "white",
             "minorgridcolor": "white",
             "startlinecolor": "#2a3f5f"
            },
            "type": "carpet"
           }
          ],
          "choropleth": [
           {
            "colorbar": {
             "outlinewidth": 0,
             "ticks": ""
            },
            "type": "choropleth"
           }
          ],
          "contour": [
           {
            "colorbar": {
             "outlinewidth": 0,
             "ticks": ""
            },
            "colorscale": [
             [
              0,
              "#0d0887"
             ],
             [
              0.1111111111111111,
              "#46039f"
             ],
             [
              0.2222222222222222,
              "#7201a8"
             ],
             [
              0.3333333333333333,
              "#9c179e"
             ],
             [
              0.4444444444444444,
              "#bd3786"
             ],
             [
              0.5555555555555556,
              "#d8576b"
             ],
             [
              0.6666666666666666,
              "#ed7953"
             ],
             [
              0.7777777777777778,
              "#fb9f3a"
             ],
             [
              0.8888888888888888,
              "#fdca26"
             ],
             [
              1,
              "#f0f921"
             ]
            ],
            "type": "contour"
           }
          ],
          "contourcarpet": [
           {
            "colorbar": {
             "outlinewidth": 0,
             "ticks": ""
            },
            "type": "contourcarpet"
           }
          ],
          "heatmap": [
           {
            "colorbar": {
             "outlinewidth": 0,
             "ticks": ""
            },
            "colorscale": [
             [
              0,
              "#0d0887"
             ],
             [
              0.1111111111111111,
              "#46039f"
             ],
             [
              0.2222222222222222,
              "#7201a8"
             ],
             [
              0.3333333333333333,
              "#9c179e"
             ],
             [
              0.4444444444444444,
              "#bd3786"
             ],
             [
              0.5555555555555556,
              "#d8576b"
             ],
             [
              0.6666666666666666,
              "#ed7953"
             ],
             [
              0.7777777777777778,
              "#fb9f3a"
             ],
             [
              0.8888888888888888,
              "#fdca26"
             ],
             [
              1,
              "#f0f921"
             ]
            ],
            "type": "heatmap"
           }
          ],
          "heatmapgl": [
           {
            "colorbar": {
             "outlinewidth": 0,
             "ticks": ""
            },
            "colorscale": [
             [
              0,
              "#0d0887"
             ],
             [
              0.1111111111111111,
              "#46039f"
             ],
             [
              0.2222222222222222,
              "#7201a8"
             ],
             [
              0.3333333333333333,
              "#9c179e"
             ],
             [
              0.4444444444444444,
              "#bd3786"
             ],
             [
              0.5555555555555556,
              "#d8576b"
             ],
             [
              0.6666666666666666,
              "#ed7953"
             ],
             [
              0.7777777777777778,
              "#fb9f3a"
             ],
             [
              0.8888888888888888,
              "#fdca26"
             ],
             [
              1,
              "#f0f921"
             ]
            ],
            "type": "heatmapgl"
           }
          ],
          "histogram": [
           {
            "marker": {
             "pattern": {
              "fillmode": "overlay",
              "size": 10,
              "solidity": 0.2
             }
            },
            "type": "histogram"
           }
          ],
          "histogram2d": [
           {
            "colorbar": {
             "outlinewidth": 0,
             "ticks": ""
            },
            "colorscale": [
             [
              0,
              "#0d0887"
             ],
             [
              0.1111111111111111,
              "#46039f"
             ],
             [
              0.2222222222222222,
              "#7201a8"
             ],
             [
              0.3333333333333333,
              "#9c179e"
             ],
             [
              0.4444444444444444,
              "#bd3786"
             ],
             [
              0.5555555555555556,
              "#d8576b"
             ],
             [
              0.6666666666666666,
              "#ed7953"
             ],
             [
              0.7777777777777778,
              "#fb9f3a"
             ],
             [
              0.8888888888888888,
              "#fdca26"
             ],
             [
              1,
              "#f0f921"
             ]
            ],
            "type": "histogram2d"
           }
          ],
          "histogram2dcontour": [
           {
            "colorbar": {
             "outlinewidth": 0,
             "ticks": ""
            },
            "colorscale": [
             [
              0,
              "#0d0887"
             ],
             [
              0.1111111111111111,
              "#46039f"
             ],
             [
              0.2222222222222222,
              "#7201a8"
             ],
             [
              0.3333333333333333,
              "#9c179e"
             ],
             [
              0.4444444444444444,
              "#bd3786"
             ],
             [
              0.5555555555555556,
              "#d8576b"
             ],
             [
              0.6666666666666666,
              "#ed7953"
             ],
             [
              0.7777777777777778,
              "#fb9f3a"
             ],
             [
              0.8888888888888888,
              "#fdca26"
             ],
             [
              1,
              "#f0f921"
             ]
            ],
            "type": "histogram2dcontour"
           }
          ],
          "mesh3d": [
           {
            "colorbar": {
             "outlinewidth": 0,
             "ticks": ""
            },
            "type": "mesh3d"
           }
          ],
          "parcoords": [
           {
            "line": {
             "colorbar": {
              "outlinewidth": 0,
              "ticks": ""
             }
            },
            "type": "parcoords"
           }
          ],
          "pie": [
           {
            "automargin": true,
            "type": "pie"
           }
          ],
          "scatter": [
           {
            "fillpattern": {
             "fillmode": "overlay",
             "size": 10,
             "solidity": 0.2
            },
            "type": "scatter"
           }
          ],
          "scatter3d": [
           {
            "line": {
             "colorbar": {
              "outlinewidth": 0,
              "ticks": ""
             }
            },
            "marker": {
             "colorbar": {
              "outlinewidth": 0,
              "ticks": ""
             }
            },
            "type": "scatter3d"
           }
          ],
          "scattercarpet": [
           {
            "marker": {
             "colorbar": {
              "outlinewidth": 0,
              "ticks": ""
             }
            },
            "type": "scattercarpet"
           }
          ],
          "scattergeo": [
           {
            "marker": {
             "colorbar": {
              "outlinewidth": 0,
              "ticks": ""
             }
            },
            "type": "scattergeo"
           }
          ],
          "scattergl": [
           {
            "marker": {
             "colorbar": {
              "outlinewidth": 0,
              "ticks": ""
             }
            },
            "type": "scattergl"
           }
          ],
          "scattermapbox": [
           {
            "marker": {
             "colorbar": {
              "outlinewidth": 0,
              "ticks": ""
             }
            },
            "type": "scattermapbox"
           }
          ],
          "scatterpolar": [
           {
            "marker": {
             "colorbar": {
              "outlinewidth": 0,
              "ticks": ""
             }
            },
            "type": "scatterpolar"
           }
          ],
          "scatterpolargl": [
           {
            "marker": {
             "colorbar": {
              "outlinewidth": 0,
              "ticks": ""
             }
            },
            "type": "scatterpolargl"
           }
          ],
          "scatterternary": [
           {
            "marker": {
             "colorbar": {
              "outlinewidth": 0,
              "ticks": ""
             }
            },
            "type": "scatterternary"
           }
          ],
          "surface": [
           {
            "colorbar": {
             "outlinewidth": 0,
             "ticks": ""
            },
            "colorscale": [
             [
              0,
              "#0d0887"
             ],
             [
              0.1111111111111111,
              "#46039f"
             ],
             [
              0.2222222222222222,
              "#7201a8"
             ],
             [
              0.3333333333333333,
              "#9c179e"
             ],
             [
              0.4444444444444444,
              "#bd3786"
             ],
             [
              0.5555555555555556,
              "#d8576b"
             ],
             [
              0.6666666666666666,
              "#ed7953"
             ],
             [
              0.7777777777777778,
              "#fb9f3a"
             ],
             [
              0.8888888888888888,
              "#fdca26"
             ],
             [
              1,
              "#f0f921"
             ]
            ],
            "type": "surface"
           }
          ],
          "table": [
           {
            "cells": {
             "fill": {
              "color": "#EBF0F8"
             },
             "line": {
              "color": "white"
             }
            },
            "header": {
             "fill": {
              "color": "#C8D4E3"
             },
             "line": {
              "color": "white"
             }
            },
            "type": "table"
           }
          ]
         },
         "layout": {
          "annotationdefaults": {
           "arrowcolor": "#2a3f5f",
           "arrowhead": 0,
           "arrowwidth": 1
          },
          "autotypenumbers": "strict",
          "coloraxis": {
           "colorbar": {
            "outlinewidth": 0,
            "ticks": ""
           }
          },
          "colorscale": {
           "diverging": [
            [
             0,
             "#8e0152"
            ],
            [
             0.1,
             "#c51b7d"
            ],
            [
             0.2,
             "#de77ae"
            ],
            [
             0.3,
             "#f1b6da"
            ],
            [
             0.4,
             "#fde0ef"
            ],
            [
             0.5,
             "#f7f7f7"
            ],
            [
             0.6,
             "#e6f5d0"
            ],
            [
             0.7,
             "#b8e186"
            ],
            [
             0.8,
             "#7fbc41"
            ],
            [
             0.9,
             "#4d9221"
            ],
            [
             1,
             "#276419"
            ]
           ],
           "sequential": [
            [
             0,
             "#0d0887"
            ],
            [
             0.1111111111111111,
             "#46039f"
            ],
            [
             0.2222222222222222,
             "#7201a8"
            ],
            [
             0.3333333333333333,
             "#9c179e"
            ],
            [
             0.4444444444444444,
             "#bd3786"
            ],
            [
             0.5555555555555556,
             "#d8576b"
            ],
            [
             0.6666666666666666,
             "#ed7953"
            ],
            [
             0.7777777777777778,
             "#fb9f3a"
            ],
            [
             0.8888888888888888,
             "#fdca26"
            ],
            [
             1,
             "#f0f921"
            ]
           ],
           "sequentialminus": [
            [
             0,
             "#0d0887"
            ],
            [
             0.1111111111111111,
             "#46039f"
            ],
            [
             0.2222222222222222,
             "#7201a8"
            ],
            [
             0.3333333333333333,
             "#9c179e"
            ],
            [
             0.4444444444444444,
             "#bd3786"
            ],
            [
             0.5555555555555556,
             "#d8576b"
            ],
            [
             0.6666666666666666,
             "#ed7953"
            ],
            [
             0.7777777777777778,
             "#fb9f3a"
            ],
            [
             0.8888888888888888,
             "#fdca26"
            ],
            [
             1,
             "#f0f921"
            ]
           ]
          },
          "colorway": [
           "#636efa",
           "#EF553B",
           "#00cc96",
           "#ab63fa",
           "#FFA15A",
           "#19d3f3",
           "#FF6692",
           "#B6E880",
           "#FF97FF",
           "#FECB52"
          ],
          "font": {
           "color": "#2a3f5f"
          },
          "geo": {
           "bgcolor": "white",
           "lakecolor": "white",
           "landcolor": "#E5ECF6",
           "showlakes": true,
           "showland": true,
           "subunitcolor": "white"
          },
          "hoverlabel": {
           "align": "left"
          },
          "hovermode": "closest",
          "mapbox": {
           "style": "light"
          },
          "paper_bgcolor": "white",
          "plot_bgcolor": "#E5ECF6",
          "polar": {
           "angularaxis": {
            "gridcolor": "white",
            "linecolor": "white",
            "ticks": ""
           },
           "bgcolor": "#E5ECF6",
           "radialaxis": {
            "gridcolor": "white",
            "linecolor": "white",
            "ticks": ""
           }
          },
          "scene": {
           "xaxis": {
            "backgroundcolor": "#E5ECF6",
            "gridcolor": "white",
            "gridwidth": 2,
            "linecolor": "white",
            "showbackground": true,
            "ticks": "",
            "zerolinecolor": "white"
           },
           "yaxis": {
            "backgroundcolor": "#E5ECF6",
            "gridcolor": "white",
            "gridwidth": 2,
            "linecolor": "white",
            "showbackground": true,
            "ticks": "",
            "zerolinecolor": "white"
           },
           "zaxis": {
            "backgroundcolor": "#E5ECF6",
            "gridcolor": "white",
            "gridwidth": 2,
            "linecolor": "white",
            "showbackground": true,
            "ticks": "",
            "zerolinecolor": "white"
           }
          },
          "shapedefaults": {
           "line": {
            "color": "#2a3f5f"
           }
          },
          "ternary": {
           "aaxis": {
            "gridcolor": "white",
            "linecolor": "white",
            "ticks": ""
           },
           "baxis": {
            "gridcolor": "white",
            "linecolor": "white",
            "ticks": ""
           },
           "bgcolor": "#E5ECF6",
           "caxis": {
            "gridcolor": "white",
            "linecolor": "white",
            "ticks": ""
           }
          },
          "title": {
           "x": 0.05
          },
          "xaxis": {
           "automargin": true,
           "gridcolor": "white",
           "linecolor": "white",
           "ticks": "",
           "title": {
            "standoff": 15
           },
           "zerolinecolor": "white",
           "zerolinewidth": 2
          },
          "yaxis": {
           "automargin": true,
           "gridcolor": "white",
           "linecolor": "white",
           "ticks": "",
           "title": {
            "standoff": 15
           },
           "zerolinecolor": "white",
           "zerolinewidth": 2
          }
         }
        },
        "xaxis": {
         "range": [
          0,
          29
         ],
         "title": {
          "text": "Number of Images"
         }
        },
        "yaxis": {
         "title": {
          "text": "Reprojection Error (px)"
         }
        }
       }
      }
     },
     "metadata": {},
     "output_type": "display_data"
    }
   ],
   "source": [
    "# Plot Error for Different Feature Detctors\n",
    "\n",
    "fig2 = go.Figure()\n",
    "\n",
    "# Add trace for Brief detector\n",
    "fig2.add_trace(go.Scatter(\n",
    "    x = num_images,\n",
    "    y = brief,\n",
    "    mode = 'lines+markers',\n",
    "    marker = dict(\n",
    "        size = 5,\n",
    "        color = 'red',\n",
    "    ),\n",
    "    opacity = 0.2,\n",
    "    showlegend=False\n",
    "))\n",
    "\n",
    "fig2.add_trace(go.Scatter(\n",
    "    x = num_images,\n",
    "    y = signal.savgol_filter(brief,\n",
    "                           10,\n",
    "                           1),\n",
    "    mode='lines',\n",
    "    line=go.scatter.Line(color=\"red\"),\n",
    "    name='BRIEF'\n",
    "))\n",
    "\n",
    "# Add trace for Sift detector\n",
    "fig2.add_trace(go.Scatter(\n",
    "    x = num_images,\n",
    "    y = sift,\n",
    "    mode = 'lines+markers',\n",
    "    marker = dict(\n",
    "        size = 5,\n",
    "        color = 'blue',\n",
    "    ),\n",
    "    opacity = 0.2,\n",
    "    showlegend=False\n",
    "))\n",
    "\n",
    "fig2.add_trace(go.Scatter(\n",
    "    x = num_images,\n",
    "    y = signal.savgol_filter(sift,\n",
    "                           10,\n",
    "                           1),\n",
    "    mode='lines',\n",
    "    line=go.scatter.Line(color=\"blue\"),\n",
    "    name='SIFT'\n",
    "))\n",
    "\n",
    "# Add trace for ORB detector\n",
    "fig2.add_trace(go.Scatter(\n",
    "    x = num_images,\n",
    "    y = orb,\n",
    "    mode = 'lines+markers',\n",
    "    marker = dict(\n",
    "        size = 5,\n",
    "        color = 'black',\n",
    "    ),\n",
    "    opacity = 0.2,\n",
    "    showlegend=False\n",
    "))\n",
    "\n",
    "fig2.add_trace(go.Scatter(\n",
    "    x = num_images,\n",
    "    y = signal.savgol_filter(orb,\n",
    "                           10,\n",
    "                           1),\n",
    "    mode='lines',\n",
    "    line=go.scatter.Line(color='black'),\n",
    "    name='ORB'\n",
    "))\n",
    "\n",
    "fig2.update_layout(\n",
    "    legend=dict(\n",
    "    orientation=\"h\",\n",
    "    yanchor=\"bottom\",\n",
    "    y=1.02,\n",
    "    xanchor=\"right\",\n",
    "    x=1),\n",
    "    xaxis_title=\"Number of Images\",\n",
    "    yaxis_title=\"Reprojection Error (px)\",\n",
    "    xaxis_range=[0, min_images],\n",
    ")\n",
    "\n",
    "fig2.show()"
   ]
  },
  {
   "cell_type": "code",
   "execution_count": 234,
   "metadata": {},
   "outputs": [],
   "source": [
    "# Lood data from pickle file (Error vs. Dataset Types)\n",
    "filename = './error_data/error_construction_sift_10000.pkl'\n",
    "construction    = pickle.load(open(filename, 'rb'))\n",
    "\n",
    "filename = './error_data/error_farm_sift_10000.pkl'\n",
    "farm      = pickle.load(open(filename, 'rb'))\n",
    "\n",
    "filename = './error_data/error_city_sift_10000.pkl'\n",
    "city     = pickle.load(open(filename, 'rb'))\n",
    "min_images = min(len(construction), len(farm), len(city))\n",
    "\n",
    "brief = construction[:min_images]\n",
    "orb = farm[:min_images]\n",
    "sift = city[:min_images]\n",
    "\n",
    "num_images = list(range(0, min_images))"
   ]
  },
  {
   "cell_type": "code",
   "execution_count": 235,
   "metadata": {},
   "outputs": [
    {
     "data": {
      "application/vnd.plotly.v1+json": {
       "config": {
        "plotlyServerURL": "https://plot.ly"
       },
       "data": [
        {
         "marker": {
          "color": "red",
          "size": 5
         },
         "mode": "lines+markers",
         "opacity": 0.2,
         "showlegend": false,
         "type": "scatter",
         "x": [
          0,
          1,
          2,
          3,
          4,
          5,
          6,
          7,
          8,
          9,
          10,
          11,
          12,
          13,
          14,
          15,
          16,
          17,
          18,
          19,
          20,
          21
         ],
         "y": [
          5.469864913654149,
          3.053743712715778,
          8.236876324301377,
          4.53172745147924,
          2.412106586230752,
          7.919003822570172,
          20.777130945906222,
          7.896981958860779,
          18.24143539875608,
          5.477125146708226,
          10.604046327963207,
          10.292515002652022,
          12.414894846396825,
          15.33277649583079,
          11.792651779066254,
          8.68484903420474,
          17.394961808111358,
          16.918891763687185,
          10.582842242400428,
          10.684809706784309,
          10.801679024979695,
          11.327751507520235
         ]
        },
        {
         "line": {
          "color": "red"
         },
         "mode": "lines",
         "name": "Construction Dataset",
         "type": "scatter",
         "x": [
          0,
          1,
          2,
          3,
          4,
          5,
          6,
          7,
          8,
          9,
          10,
          11,
          12,
          13,
          14,
          15,
          16,
          17,
          18,
          19,
          20,
          21
         ],
         "y": [
          4.067340904513199,
          5.030509509314327,
          5.993678114115456,
          6.956846718916584,
          7.9200153237177116,
          8.915017767549182,
          9.638894896542807,
          10.056696748752351,
          11.136801653187506,
          12.074856172471057,
          12.151440693634514,
          11.813223779855027,
          12.715414760337667,
          11.949555444702103,
          12.47032390070971,
          12.49008717041136,
          12.593610820898181,
          12.466873629603953,
          12.213399247015504,
          11.959924864427057,
          11.706450481838608,
          11.452976099250161
         ]
        },
        {
         "marker": {
          "color": "blue",
          "size": 5
         },
         "mode": "lines+markers",
         "opacity": 0.2,
         "showlegend": false,
         "type": "scatter",
         "x": [
          0,
          1,
          2,
          3,
          4,
          5,
          6,
          7,
          8,
          9,
          10,
          11,
          12,
          13,
          14,
          15,
          16,
          17,
          18,
          19,
          20,
          21
         ],
         "y": [
          7.545406546618124,
          2.800502659289402,
          2.458209550663268,
          13.104890072606148,
          8.97958503299328,
          15.693759257533245,
          4.577730655465907,
          24.343017210916674,
          43.06448705216466,
          36.907619001792284,
          23.2602358274312,
          72.14283334926672,
          86.88425518581585,
          60.61355696452467,
          375.23944502663176,
          164.7868488222637,
          310.07983466881745,
          308.2632974977058,
          242.06794817605473,
          1387.9361414047085,
          1231.8395093268891,
          287.0812093093879,
          611.3466034586082,
          1559.8747854026878,
          1556.9478965394037,
          643.7766849914618,
          827.1039485770063,
          361.5881500583054,
          496.29069312165035,
          1481.0897920370387,
          897.8379983175707,
          1729.4942494193551,
          921.6596654461665,
          1068.5630010859177,
          1311.6400323964829,
          1805.2216383367809,
          538.1398606360162,
          314.92002097334455,
          1415.6760290544248,
          3071.8430187206095,
          1491.0112258519275,
          661.6653300014042,
          811.4488638768653,
          452.1399004306072,
          181.3236331229708,
          238.4057513784997,
          1052.72994258416,
          841.2690714547982,
          1504.225146898205
         ]
        },
        {
         "line": {
          "color": "blue"
         },
         "mode": "lines",
         "name": "Agrictulture Dataset",
         "type": "scatter",
         "x": [
          0,
          1,
          2,
          3,
          4,
          5,
          6,
          7,
          8,
          9,
          10,
          11,
          12,
          13,
          14,
          15,
          16,
          17,
          18,
          19,
          20,
          21
         ],
         "y": [
          -1.416057581116074,
          2.442515371132898,
          6.301088323381871,
          10.159661275630842,
          14.018234227879814,
          17.519003632085607,
          24.453236701083338,
          32.895841264598594,
          37.64670795379045,
          74.2726939531543,
          89.18200290962733,
          119.73221331096249,
          148.1242413396414,
          168.0245874520304,
          303.127439692322,
          423.98536704226785,
          445.4792046382799,
          497.9254394655591,
          647.8515623093754,
          766.0224074606526,
          813.9213910775725,
          865.6238024683914,
          870.9562877244513,
          896.3785622190109,
          905.6939272822439,
          872.2937761813121,
          1016.5350801923089,
          1047.5663863910645,
          998.4352079593875,
          973.9044215450955,
          1090.0489168796273,
          1061.1525080855283,
          1056.4856951770323,
          1148.4242287703096,
          1307.499551438667,
          1366.8168741921027,
          1260.0339822503076,
          1249.0129020933773,
          1187.3705920278462,
          1074.338952100495,
          917.6573634046669,
          969.1163715994813,
          1021.7512766476267,
          1030.6061884320047,
          973.9656476166386,
          860.6845659859082,
          747.4034843551779,
          634.1224027244474,
          520.8413210937169
         ]
        },
        {
         "marker": {
          "color": "black",
          "size": 5
         },
         "mode": "lines+markers",
         "opacity": 0.2,
         "showlegend": false,
         "type": "scatter",
         "x": [
          0,
          1,
          2,
          3,
          4,
          5,
          6,
          7,
          8,
          9,
          10,
          11,
          12,
          13,
          14,
          15,
          16,
          17,
          18,
          19,
          20,
          21
         ],
         "y": [
          11.03,
          26.44,
          35.66,
          31.62,
          77.47,
          39.79,
          66.19,
          78.62,
          71.08,
          162.94,
          198.78,
          150.63,
          178.21,
          223.84,
          362.51,
          226.78,
          289.66,
          100.75,
          217.26,
          203.87,
          97.56,
          172.4,
          203.88,
          132.9,
          107.07,
          127.77,
          103.8,
          111.4,
          99.34,
          50.21,
          54.08,
          80.17,
          63.45,
          128.73,
          88.28,
          127.94,
          210.37,
          114.82,
          178.3,
          291.79,
          94.02,
          331.57,
          253.97,
          207.32,
          132.01,
          94.86,
          97.94,
          122.67,
          203.37,
          197.17,
          182.33,
          168.26,
          185.61,
          169.36,
          150.82,
          346.72,
          492.66,
          253.94,
          373.94,
          590.36,
          469.49,
          1000.22,
          608.34,
          379.68,
          229.64,
          518.5,
          495.66,
          657.1,
          403.5
         ]
        },
        {
         "line": {
          "color": "black"
         },
         "mode": "lines",
         "name": "City Dataset",
         "type": "scatter",
         "x": [
          0,
          1,
          2,
          3,
          4,
          5,
          6,
          7,
          8,
          9,
          10,
          11,
          12,
          13,
          14,
          15,
          16,
          17,
          18,
          19,
          20,
          21
         ],
         "y": [
          6.615818181818202,
          18.49763636363638,
          30.379454545454564,
          42.26127272727274,
          54.14309090909093,
          78.859,
          91.278,
          105.533,
          124.755,
          153.259,
          171.958,
          194.305,
          196.518,
          211.136,
          215.22899999999998,
          205.107,
          207.284,
          209.851,
          200.757,
          175.213,
          165.31199999999998,
          146.72599999999997,
          147.79099999999997,
          135.999,
          120.63299999999998,
          116.285,
          107.062,
          93.01899999999999,
          92.60199999999999,
          90.72299999999998,
          90.74000000000001,
          101.397,
          101.739,
          109.63499999999999,
          133.793,
          137.78699999999998,
          162.92699999999996,
          181.97899999999998,
          189.83799999999997,
          194.21099999999998,
          190.90299999999996,
          179.65999999999997,
          180.445,
          182.952,
          173.48999999999998,
          182.32099999999997,
          165.99,
          159.154,
          155.358,
          157.239,
          182.425,
          221.89700000000002,
          235.024,
          252.081,
          291.4,
          320.116,
          403.312,
          445.58500000000004,
          466.617,
          474.499,
          491.677,
          491.977,
          532.293,
          535.2489999999999,
          525.2161818181817,
          505.1505454545453,
          485.0849090909089,
          465.0192727272726,
          444.9536363636363
         ]
        }
       ],
       "layout": {
        "legend": {
         "orientation": "h",
         "x": 1,
         "xanchor": "right",
         "y": 1.02,
         "yanchor": "bottom"
        },
        "template": {
         "data": {
          "bar": [
           {
            "error_x": {
             "color": "#2a3f5f"
            },
            "error_y": {
             "color": "#2a3f5f"
            },
            "marker": {
             "line": {
              "color": "#E5ECF6",
              "width": 0.5
             },
             "pattern": {
              "fillmode": "overlay",
              "size": 10,
              "solidity": 0.2
             }
            },
            "type": "bar"
           }
          ],
          "barpolar": [
           {
            "marker": {
             "line": {
              "color": "#E5ECF6",
              "width": 0.5
             },
             "pattern": {
              "fillmode": "overlay",
              "size": 10,
              "solidity": 0.2
             }
            },
            "type": "barpolar"
           }
          ],
          "carpet": [
           {
            "aaxis": {
             "endlinecolor": "#2a3f5f",
             "gridcolor": "white",
             "linecolor": "white",
             "minorgridcolor": "white",
             "startlinecolor": "#2a3f5f"
            },
            "baxis": {
             "endlinecolor": "#2a3f5f",
             "gridcolor": "white",
             "linecolor": "white",
             "minorgridcolor": "white",
             "startlinecolor": "#2a3f5f"
            },
            "type": "carpet"
           }
          ],
          "choropleth": [
           {
            "colorbar": {
             "outlinewidth": 0,
             "ticks": ""
            },
            "type": "choropleth"
           }
          ],
          "contour": [
           {
            "colorbar": {
             "outlinewidth": 0,
             "ticks": ""
            },
            "colorscale": [
             [
              0,
              "#0d0887"
             ],
             [
              0.1111111111111111,
              "#46039f"
             ],
             [
              0.2222222222222222,
              "#7201a8"
             ],
             [
              0.3333333333333333,
              "#9c179e"
             ],
             [
              0.4444444444444444,
              "#bd3786"
             ],
             [
              0.5555555555555556,
              "#d8576b"
             ],
             [
              0.6666666666666666,
              "#ed7953"
             ],
             [
              0.7777777777777778,
              "#fb9f3a"
             ],
             [
              0.8888888888888888,
              "#fdca26"
             ],
             [
              1,
              "#f0f921"
             ]
            ],
            "type": "contour"
           }
          ],
          "contourcarpet": [
           {
            "colorbar": {
             "outlinewidth": 0,
             "ticks": ""
            },
            "type": "contourcarpet"
           }
          ],
          "heatmap": [
           {
            "colorbar": {
             "outlinewidth": 0,
             "ticks": ""
            },
            "colorscale": [
             [
              0,
              "#0d0887"
             ],
             [
              0.1111111111111111,
              "#46039f"
             ],
             [
              0.2222222222222222,
              "#7201a8"
             ],
             [
              0.3333333333333333,
              "#9c179e"
             ],
             [
              0.4444444444444444,
              "#bd3786"
             ],
             [
              0.5555555555555556,
              "#d8576b"
             ],
             [
              0.6666666666666666,
              "#ed7953"
             ],
             [
              0.7777777777777778,
              "#fb9f3a"
             ],
             [
              0.8888888888888888,
              "#fdca26"
             ],
             [
              1,
              "#f0f921"
             ]
            ],
            "type": "heatmap"
           }
          ],
          "heatmapgl": [
           {
            "colorbar": {
             "outlinewidth": 0,
             "ticks": ""
            },
            "colorscale": [
             [
              0,
              "#0d0887"
             ],
             [
              0.1111111111111111,
              "#46039f"
             ],
             [
              0.2222222222222222,
              "#7201a8"
             ],
             [
              0.3333333333333333,
              "#9c179e"
             ],
             [
              0.4444444444444444,
              "#bd3786"
             ],
             [
              0.5555555555555556,
              "#d8576b"
             ],
             [
              0.6666666666666666,
              "#ed7953"
             ],
             [
              0.7777777777777778,
              "#fb9f3a"
             ],
             [
              0.8888888888888888,
              "#fdca26"
             ],
             [
              1,
              "#f0f921"
             ]
            ],
            "type": "heatmapgl"
           }
          ],
          "histogram": [
           {
            "marker": {
             "pattern": {
              "fillmode": "overlay",
              "size": 10,
              "solidity": 0.2
             }
            },
            "type": "histogram"
           }
          ],
          "histogram2d": [
           {
            "colorbar": {
             "outlinewidth": 0,
             "ticks": ""
            },
            "colorscale": [
             [
              0,
              "#0d0887"
             ],
             [
              0.1111111111111111,
              "#46039f"
             ],
             [
              0.2222222222222222,
              "#7201a8"
             ],
             [
              0.3333333333333333,
              "#9c179e"
             ],
             [
              0.4444444444444444,
              "#bd3786"
             ],
             [
              0.5555555555555556,
              "#d8576b"
             ],
             [
              0.6666666666666666,
              "#ed7953"
             ],
             [
              0.7777777777777778,
              "#fb9f3a"
             ],
             [
              0.8888888888888888,
              "#fdca26"
             ],
             [
              1,
              "#f0f921"
             ]
            ],
            "type": "histogram2d"
           }
          ],
          "histogram2dcontour": [
           {
            "colorbar": {
             "outlinewidth": 0,
             "ticks": ""
            },
            "colorscale": [
             [
              0,
              "#0d0887"
             ],
             [
              0.1111111111111111,
              "#46039f"
             ],
             [
              0.2222222222222222,
              "#7201a8"
             ],
             [
              0.3333333333333333,
              "#9c179e"
             ],
             [
              0.4444444444444444,
              "#bd3786"
             ],
             [
              0.5555555555555556,
              "#d8576b"
             ],
             [
              0.6666666666666666,
              "#ed7953"
             ],
             [
              0.7777777777777778,
              "#fb9f3a"
             ],
             [
              0.8888888888888888,
              "#fdca26"
             ],
             [
              1,
              "#f0f921"
             ]
            ],
            "type": "histogram2dcontour"
           }
          ],
          "mesh3d": [
           {
            "colorbar": {
             "outlinewidth": 0,
             "ticks": ""
            },
            "type": "mesh3d"
           }
          ],
          "parcoords": [
           {
            "line": {
             "colorbar": {
              "outlinewidth": 0,
              "ticks": ""
             }
            },
            "type": "parcoords"
           }
          ],
          "pie": [
           {
            "automargin": true,
            "type": "pie"
           }
          ],
          "scatter": [
           {
            "fillpattern": {
             "fillmode": "overlay",
             "size": 10,
             "solidity": 0.2
            },
            "type": "scatter"
           }
          ],
          "scatter3d": [
           {
            "line": {
             "colorbar": {
              "outlinewidth": 0,
              "ticks": ""
             }
            },
            "marker": {
             "colorbar": {
              "outlinewidth": 0,
              "ticks": ""
             }
            },
            "type": "scatter3d"
           }
          ],
          "scattercarpet": [
           {
            "marker": {
             "colorbar": {
              "outlinewidth": 0,
              "ticks": ""
             }
            },
            "type": "scattercarpet"
           }
          ],
          "scattergeo": [
           {
            "marker": {
             "colorbar": {
              "outlinewidth": 0,
              "ticks": ""
             }
            },
            "type": "scattergeo"
           }
          ],
          "scattergl": [
           {
            "marker": {
             "colorbar": {
              "outlinewidth": 0,
              "ticks": ""
             }
            },
            "type": "scattergl"
           }
          ],
          "scattermapbox": [
           {
            "marker": {
             "colorbar": {
              "outlinewidth": 0,
              "ticks": ""
             }
            },
            "type": "scattermapbox"
           }
          ],
          "scatterpolar": [
           {
            "marker": {
             "colorbar": {
              "outlinewidth": 0,
              "ticks": ""
             }
            },
            "type": "scatterpolar"
           }
          ],
          "scatterpolargl": [
           {
            "marker": {
             "colorbar": {
              "outlinewidth": 0,
              "ticks": ""
             }
            },
            "type": "scatterpolargl"
           }
          ],
          "scatterternary": [
           {
            "marker": {
             "colorbar": {
              "outlinewidth": 0,
              "ticks": ""
             }
            },
            "type": "scatterternary"
           }
          ],
          "surface": [
           {
            "colorbar": {
             "outlinewidth": 0,
             "ticks": ""
            },
            "colorscale": [
             [
              0,
              "#0d0887"
             ],
             [
              0.1111111111111111,
              "#46039f"
             ],
             [
              0.2222222222222222,
              "#7201a8"
             ],
             [
              0.3333333333333333,
              "#9c179e"
             ],
             [
              0.4444444444444444,
              "#bd3786"
             ],
             [
              0.5555555555555556,
              "#d8576b"
             ],
             [
              0.6666666666666666,
              "#ed7953"
             ],
             [
              0.7777777777777778,
              "#fb9f3a"
             ],
             [
              0.8888888888888888,
              "#fdca26"
             ],
             [
              1,
              "#f0f921"
             ]
            ],
            "type": "surface"
           }
          ],
          "table": [
           {
            "cells": {
             "fill": {
              "color": "#EBF0F8"
             },
             "line": {
              "color": "white"
             }
            },
            "header": {
             "fill": {
              "color": "#C8D4E3"
             },
             "line": {
              "color": "white"
             }
            },
            "type": "table"
           }
          ]
         },
         "layout": {
          "annotationdefaults": {
           "arrowcolor": "#2a3f5f",
           "arrowhead": 0,
           "arrowwidth": 1
          },
          "autotypenumbers": "strict",
          "coloraxis": {
           "colorbar": {
            "outlinewidth": 0,
            "ticks": ""
           }
          },
          "colorscale": {
           "diverging": [
            [
             0,
             "#8e0152"
            ],
            [
             0.1,
             "#c51b7d"
            ],
            [
             0.2,
             "#de77ae"
            ],
            [
             0.3,
             "#f1b6da"
            ],
            [
             0.4,
             "#fde0ef"
            ],
            [
             0.5,
             "#f7f7f7"
            ],
            [
             0.6,
             "#e6f5d0"
            ],
            [
             0.7,
             "#b8e186"
            ],
            [
             0.8,
             "#7fbc41"
            ],
            [
             0.9,
             "#4d9221"
            ],
            [
             1,
             "#276419"
            ]
           ],
           "sequential": [
            [
             0,
             "#0d0887"
            ],
            [
             0.1111111111111111,
             "#46039f"
            ],
            [
             0.2222222222222222,
             "#7201a8"
            ],
            [
             0.3333333333333333,
             "#9c179e"
            ],
            [
             0.4444444444444444,
             "#bd3786"
            ],
            [
             0.5555555555555556,
             "#d8576b"
            ],
            [
             0.6666666666666666,
             "#ed7953"
            ],
            [
             0.7777777777777778,
             "#fb9f3a"
            ],
            [
             0.8888888888888888,
             "#fdca26"
            ],
            [
             1,
             "#f0f921"
            ]
           ],
           "sequentialminus": [
            [
             0,
             "#0d0887"
            ],
            [
             0.1111111111111111,
             "#46039f"
            ],
            [
             0.2222222222222222,
             "#7201a8"
            ],
            [
             0.3333333333333333,
             "#9c179e"
            ],
            [
             0.4444444444444444,
             "#bd3786"
            ],
            [
             0.5555555555555556,
             "#d8576b"
            ],
            [
             0.6666666666666666,
             "#ed7953"
            ],
            [
             0.7777777777777778,
             "#fb9f3a"
            ],
            [
             0.8888888888888888,
             "#fdca26"
            ],
            [
             1,
             "#f0f921"
            ]
           ]
          },
          "colorway": [
           "#636efa",
           "#EF553B",
           "#00cc96",
           "#ab63fa",
           "#FFA15A",
           "#19d3f3",
           "#FF6692",
           "#B6E880",
           "#FF97FF",
           "#FECB52"
          ],
          "font": {
           "color": "#2a3f5f"
          },
          "geo": {
           "bgcolor": "white",
           "lakecolor": "white",
           "landcolor": "#E5ECF6",
           "showlakes": true,
           "showland": true,
           "subunitcolor": "white"
          },
          "hoverlabel": {
           "align": "left"
          },
          "hovermode": "closest",
          "mapbox": {
           "style": "light"
          },
          "paper_bgcolor": "white",
          "plot_bgcolor": "#E5ECF6",
          "polar": {
           "angularaxis": {
            "gridcolor": "white",
            "linecolor": "white",
            "ticks": ""
           },
           "bgcolor": "#E5ECF6",
           "radialaxis": {
            "gridcolor": "white",
            "linecolor": "white",
            "ticks": ""
           }
          },
          "scene": {
           "xaxis": {
            "backgroundcolor": "#E5ECF6",
            "gridcolor": "white",
            "gridwidth": 2,
            "linecolor": "white",
            "showbackground": true,
            "ticks": "",
            "zerolinecolor": "white"
           },
           "yaxis": {
            "backgroundcolor": "#E5ECF6",
            "gridcolor": "white",
            "gridwidth": 2,
            "linecolor": "white",
            "showbackground": true,
            "ticks": "",
            "zerolinecolor": "white"
           },
           "zaxis": {
            "backgroundcolor": "#E5ECF6",
            "gridcolor": "white",
            "gridwidth": 2,
            "linecolor": "white",
            "showbackground": true,
            "ticks": "",
            "zerolinecolor": "white"
           }
          },
          "shapedefaults": {
           "line": {
            "color": "#2a3f5f"
           }
          },
          "ternary": {
           "aaxis": {
            "gridcolor": "white",
            "linecolor": "white",
            "ticks": ""
           },
           "baxis": {
            "gridcolor": "white",
            "linecolor": "white",
            "ticks": ""
           },
           "bgcolor": "#E5ECF6",
           "caxis": {
            "gridcolor": "white",
            "linecolor": "white",
            "ticks": ""
           }
          },
          "title": {
           "x": 0.05
          },
          "xaxis": {
           "automargin": true,
           "gridcolor": "white",
           "linecolor": "white",
           "ticks": "",
           "title": {
            "standoff": 15
           },
           "zerolinecolor": "white",
           "zerolinewidth": 2
          },
          "yaxis": {
           "automargin": true,
           "gridcolor": "white",
           "linecolor": "white",
           "ticks": "",
           "title": {
            "standoff": 15
           },
           "zerolinecolor": "white",
           "zerolinewidth": 2
          }
         }
        },
        "xaxis": {
         "range": [
          0,
          22
         ],
         "title": {
          "text": "Number of Images"
         }
        },
        "yaxis": {
         "title": {
          "text": "Reprojection Error (px)"
         }
        }
       }
      }
     },
     "metadata": {},
     "output_type": "display_data"
    }
   ],
   "source": [
    "# Plot Error for Different Types of Datasets\n",
    "\n",
    "fig3 = go.Figure()\n",
    "\n",
    "# Add trace for construction dataset\n",
    "fig3.add_trace(go.Scatter(\n",
    "    x = num_images,\n",
    "    y = construction,\n",
    "    mode = 'lines+markers',\n",
    "    marker = dict(\n",
    "        size = 5,\n",
    "        color = 'red',\n",
    "    ),\n",
    "    opacity = 0.2,\n",
    "    showlegend=False\n",
    "))\n",
    "\n",
    "fig3.add_trace(go.Scatter(\n",
    "    x = num_images,\n",
    "    y = signal.savgol_filter(construction,\n",
    "                           10,\n",
    "                           1),\n",
    "    mode='lines',\n",
    "    line=go.scatter.Line(color=\"red\"),\n",
    "    name='Construction Dataset'\n",
    "))\n",
    "\n",
    "# Add trace for agriculture dataset\n",
    "fig3.add_trace(go.Scatter(\n",
    "    x = num_images,\n",
    "    y = farm,\n",
    "    mode = 'lines+markers',\n",
    "    marker = dict(\n",
    "        size = 5,\n",
    "        color = 'blue',\n",
    "    ),\n",
    "    opacity = 0.2,\n",
    "    showlegend=False\n",
    "))\n",
    "\n",
    "fig3.add_trace(go.Scatter(\n",
    "    x = num_images,\n",
    "    y = signal.savgol_filter(farm,\n",
    "                           10,\n",
    "                           1),\n",
    "    mode='lines',\n",
    "    line=go.scatter.Line(color=\"blue\"),\n",
    "    name='Agrictulture Dataset'\n",
    "))\n",
    "\n",
    "# Add trace for city dataset\n",
    "fig3.add_trace(go.Scatter(\n",
    "    x = num_images,\n",
    "    y = city,\n",
    "    mode = 'lines+markers',\n",
    "    marker = dict(\n",
    "        size = 5,\n",
    "        color = 'black',\n",
    "    ),\n",
    "    opacity = 0.2,\n",
    "    showlegend=False\n",
    "))\n",
    "\n",
    "fig3.add_trace(go.Scatter(\n",
    "    x = num_images,\n",
    "    y = signal.savgol_filter(city,\n",
    "                           10,\n",
    "                           1),\n",
    "    mode='lines',\n",
    "    line=go.scatter.Line(color='black'),\n",
    "    name='City Dataset'\n",
    "))\n",
    "\n",
    "fig3.update_layout(\n",
    "    legend=dict(\n",
    "    orientation=\"h\",\n",
    "    yanchor=\"bottom\",\n",
    "    y=1.02,\n",
    "    xanchor=\"right\",\n",
    "    x=1),\n",
    "    xaxis_title=\"Number of Images\",\n",
    "    yaxis_title=\"Reprojection Error (px)\",\n",
    "    xaxis_range=[0, min_images],\n",
    ")\n",
    "\n",
    "fig3.show()"
   ]
  },
  {
   "cell_type": "code",
   "execution_count": 236,
   "metadata": {},
   "outputs": [],
   "source": [
    "# Lood data from pickle file (Time for Different Feature Detectors)\n",
    "filename = './time_data/time_city_brief_NA.pkl'\n",
    "brief_time      = pickle.load(open(filename, 'rb'))\n",
    "\n",
    "filename = './time_data/time_city_sift_10000.pkl'\n",
    "sift_time    = pickle.load(open(filename, 'rb'))\n",
    "\n",
    "filename = './time_data/time_city_orb_10000.pkl'\n",
    "orb_time    = pickle.load(open(filename, 'rb'))\n",
    "\n",
    "min_images = min(len(brief_time), len(sift_time), len(orb_time))\n",
    "\n",
    "brief_time = brief_time[:min_images]\n",
    "sift_time = sift_time[:min_images]\n",
    "orb_time = orb_time[:min_images]\n",
    "\n",
    "num_images = list(range(0, min_images))"
   ]
  },
  {
   "cell_type": "code",
   "execution_count": 237,
   "metadata": {},
   "outputs": [
    {
     "data": {
      "application/vnd.plotly.v1+json": {
       "config": {
        "plotlyServerURL": "https://plot.ly"
       },
       "data": [
        {
         "marker": {
          "color": "red",
          "size": 5
         },
         "mode": "lines+markers",
         "name": "BRIEF",
         "type": "scatter",
         "x": [
          0,
          1,
          2,
          3,
          4,
          5,
          6,
          7,
          8,
          9,
          10,
          11,
          12,
          13,
          14,
          15,
          16,
          17,
          18,
          19,
          20,
          21,
          22,
          23,
          24,
          25,
          26,
          27,
          28
         ],
         "y": [
          0.53,
          0.77,
          1.03,
          1.31,
          1.62,
          1.93,
          2.26,
          2.62,
          2.99,
          3.38,
          3.75,
          4.16,
          4.59,
          5.07,
          5.6,
          6.16,
          6.72,
          7.25,
          7.81,
          8.38,
          8.98,
          9.59,
          10.2,
          10.78,
          11.39,
          11.96,
          12.54,
          13.11,
          13.71
         ]
        },
        {
         "marker": {
          "color": "blue",
          "size": 5
         },
         "mode": "lines+markers",
         "name": "SIFT",
         "type": "scatter",
         "x": [
          0,
          1,
          2,
          3,
          4,
          5,
          6,
          7,
          8,
          9,
          10,
          11,
          12,
          13,
          14,
          15,
          16,
          17,
          18,
          19,
          20,
          21,
          22,
          23,
          24,
          25,
          26,
          27,
          28
         ],
         "y": [
          2.53,
          5.21,
          8.82,
          12.83,
          16.83,
          20.5,
          24.16,
          27.99,
          32.29,
          36.38,
          39.93,
          43.46,
          47.11,
          51.07,
          55.43,
          59.75,
          64.03,
          68.41,
          72.8,
          77.18,
          81.8,
          86.46,
          91.02,
          95.24,
          99.24,
          103.34,
          107.6,
          112.11,
          116.32
         ]
        },
        {
         "marker": {
          "color": "black",
          "size": 5
         },
         "mode": "lines+markers",
         "name": "ORB",
         "type": "scatter",
         "x": [
          0,
          1,
          2,
          3,
          4,
          5,
          6,
          7,
          8,
          9,
          10,
          11,
          12,
          13,
          14,
          15,
          16,
          17,
          18,
          19,
          20,
          21,
          22,
          23,
          24,
          25,
          26,
          27,
          28
         ],
         "y": [
          2.08,
          3.57,
          5.06,
          6.56,
          8.08,
          9.59,
          11.1,
          12.63,
          14.18,
          15.72,
          17.28,
          18.85,
          20.42,
          22,
          23.6,
          25.21,
          26.83,
          28.49,
          30.19,
          33.23,
          38.15,
          43.34,
          48.42,
          53.39,
          58.37,
          63.37,
          68.39,
          73.4,
          78.55
         ]
        }
       ],
       "layout": {
        "legend": {
         "orientation": "h",
         "x": 1,
         "xanchor": "right",
         "y": 1.02,
         "yanchor": "bottom"
        },
        "template": {
         "data": {
          "bar": [
           {
            "error_x": {
             "color": "#2a3f5f"
            },
            "error_y": {
             "color": "#2a3f5f"
            },
            "marker": {
             "line": {
              "color": "#E5ECF6",
              "width": 0.5
             },
             "pattern": {
              "fillmode": "overlay",
              "size": 10,
              "solidity": 0.2
             }
            },
            "type": "bar"
           }
          ],
          "barpolar": [
           {
            "marker": {
             "line": {
              "color": "#E5ECF6",
              "width": 0.5
             },
             "pattern": {
              "fillmode": "overlay",
              "size": 10,
              "solidity": 0.2
             }
            },
            "type": "barpolar"
           }
          ],
          "carpet": [
           {
            "aaxis": {
             "endlinecolor": "#2a3f5f",
             "gridcolor": "white",
             "linecolor": "white",
             "minorgridcolor": "white",
             "startlinecolor": "#2a3f5f"
            },
            "baxis": {
             "endlinecolor": "#2a3f5f",
             "gridcolor": "white",
             "linecolor": "white",
             "minorgridcolor": "white",
             "startlinecolor": "#2a3f5f"
            },
            "type": "carpet"
           }
          ],
          "choropleth": [
           {
            "colorbar": {
             "outlinewidth": 0,
             "ticks": ""
            },
            "type": "choropleth"
           }
          ],
          "contour": [
           {
            "colorbar": {
             "outlinewidth": 0,
             "ticks": ""
            },
            "colorscale": [
             [
              0,
              "#0d0887"
             ],
             [
              0.1111111111111111,
              "#46039f"
             ],
             [
              0.2222222222222222,
              "#7201a8"
             ],
             [
              0.3333333333333333,
              "#9c179e"
             ],
             [
              0.4444444444444444,
              "#bd3786"
             ],
             [
              0.5555555555555556,
              "#d8576b"
             ],
             [
              0.6666666666666666,
              "#ed7953"
             ],
             [
              0.7777777777777778,
              "#fb9f3a"
             ],
             [
              0.8888888888888888,
              "#fdca26"
             ],
             [
              1,
              "#f0f921"
             ]
            ],
            "type": "contour"
           }
          ],
          "contourcarpet": [
           {
            "colorbar": {
             "outlinewidth": 0,
             "ticks": ""
            },
            "type": "contourcarpet"
           }
          ],
          "heatmap": [
           {
            "colorbar": {
             "outlinewidth": 0,
             "ticks": ""
            },
            "colorscale": [
             [
              0,
              "#0d0887"
             ],
             [
              0.1111111111111111,
              "#46039f"
             ],
             [
              0.2222222222222222,
              "#7201a8"
             ],
             [
              0.3333333333333333,
              "#9c179e"
             ],
             [
              0.4444444444444444,
              "#bd3786"
             ],
             [
              0.5555555555555556,
              "#d8576b"
             ],
             [
              0.6666666666666666,
              "#ed7953"
             ],
             [
              0.7777777777777778,
              "#fb9f3a"
             ],
             [
              0.8888888888888888,
              "#fdca26"
             ],
             [
              1,
              "#f0f921"
             ]
            ],
            "type": "heatmap"
           }
          ],
          "heatmapgl": [
           {
            "colorbar": {
             "outlinewidth": 0,
             "ticks": ""
            },
            "colorscale": [
             [
              0,
              "#0d0887"
             ],
             [
              0.1111111111111111,
              "#46039f"
             ],
             [
              0.2222222222222222,
              "#7201a8"
             ],
             [
              0.3333333333333333,
              "#9c179e"
             ],
             [
              0.4444444444444444,
              "#bd3786"
             ],
             [
              0.5555555555555556,
              "#d8576b"
             ],
             [
              0.6666666666666666,
              "#ed7953"
             ],
             [
              0.7777777777777778,
              "#fb9f3a"
             ],
             [
              0.8888888888888888,
              "#fdca26"
             ],
             [
              1,
              "#f0f921"
             ]
            ],
            "type": "heatmapgl"
           }
          ],
          "histogram": [
           {
            "marker": {
             "pattern": {
              "fillmode": "overlay",
              "size": 10,
              "solidity": 0.2
             }
            },
            "type": "histogram"
           }
          ],
          "histogram2d": [
           {
            "colorbar": {
             "outlinewidth": 0,
             "ticks": ""
            },
            "colorscale": [
             [
              0,
              "#0d0887"
             ],
             [
              0.1111111111111111,
              "#46039f"
             ],
             [
              0.2222222222222222,
              "#7201a8"
             ],
             [
              0.3333333333333333,
              "#9c179e"
             ],
             [
              0.4444444444444444,
              "#bd3786"
             ],
             [
              0.5555555555555556,
              "#d8576b"
             ],
             [
              0.6666666666666666,
              "#ed7953"
             ],
             [
              0.7777777777777778,
              "#fb9f3a"
             ],
             [
              0.8888888888888888,
              "#fdca26"
             ],
             [
              1,
              "#f0f921"
             ]
            ],
            "type": "histogram2d"
           }
          ],
          "histogram2dcontour": [
           {
            "colorbar": {
             "outlinewidth": 0,
             "ticks": ""
            },
            "colorscale": [
             [
              0,
              "#0d0887"
             ],
             [
              0.1111111111111111,
              "#46039f"
             ],
             [
              0.2222222222222222,
              "#7201a8"
             ],
             [
              0.3333333333333333,
              "#9c179e"
             ],
             [
              0.4444444444444444,
              "#bd3786"
             ],
             [
              0.5555555555555556,
              "#d8576b"
             ],
             [
              0.6666666666666666,
              "#ed7953"
             ],
             [
              0.7777777777777778,
              "#fb9f3a"
             ],
             [
              0.8888888888888888,
              "#fdca26"
             ],
             [
              1,
              "#f0f921"
             ]
            ],
            "type": "histogram2dcontour"
           }
          ],
          "mesh3d": [
           {
            "colorbar": {
             "outlinewidth": 0,
             "ticks": ""
            },
            "type": "mesh3d"
           }
          ],
          "parcoords": [
           {
            "line": {
             "colorbar": {
              "outlinewidth": 0,
              "ticks": ""
             }
            },
            "type": "parcoords"
           }
          ],
          "pie": [
           {
            "automargin": true,
            "type": "pie"
           }
          ],
          "scatter": [
           {
            "fillpattern": {
             "fillmode": "overlay",
             "size": 10,
             "solidity": 0.2
            },
            "type": "scatter"
           }
          ],
          "scatter3d": [
           {
            "line": {
             "colorbar": {
              "outlinewidth": 0,
              "ticks": ""
             }
            },
            "marker": {
             "colorbar": {
              "outlinewidth": 0,
              "ticks": ""
             }
            },
            "type": "scatter3d"
           }
          ],
          "scattercarpet": [
           {
            "marker": {
             "colorbar": {
              "outlinewidth": 0,
              "ticks": ""
             }
            },
            "type": "scattercarpet"
           }
          ],
          "scattergeo": [
           {
            "marker": {
             "colorbar": {
              "outlinewidth": 0,
              "ticks": ""
             }
            },
            "type": "scattergeo"
           }
          ],
          "scattergl": [
           {
            "marker": {
             "colorbar": {
              "outlinewidth": 0,
              "ticks": ""
             }
            },
            "type": "scattergl"
           }
          ],
          "scattermapbox": [
           {
            "marker": {
             "colorbar": {
              "outlinewidth": 0,
              "ticks": ""
             }
            },
            "type": "scattermapbox"
           }
          ],
          "scatterpolar": [
           {
            "marker": {
             "colorbar": {
              "outlinewidth": 0,
              "ticks": ""
             }
            },
            "type": "scatterpolar"
           }
          ],
          "scatterpolargl": [
           {
            "marker": {
             "colorbar": {
              "outlinewidth": 0,
              "ticks": ""
             }
            },
            "type": "scatterpolargl"
           }
          ],
          "scatterternary": [
           {
            "marker": {
             "colorbar": {
              "outlinewidth": 0,
              "ticks": ""
             }
            },
            "type": "scatterternary"
           }
          ],
          "surface": [
           {
            "colorbar": {
             "outlinewidth": 0,
             "ticks": ""
            },
            "colorscale": [
             [
              0,
              "#0d0887"
             ],
             [
              0.1111111111111111,
              "#46039f"
             ],
             [
              0.2222222222222222,
              "#7201a8"
             ],
             [
              0.3333333333333333,
              "#9c179e"
             ],
             [
              0.4444444444444444,
              "#bd3786"
             ],
             [
              0.5555555555555556,
              "#d8576b"
             ],
             [
              0.6666666666666666,
              "#ed7953"
             ],
             [
              0.7777777777777778,
              "#fb9f3a"
             ],
             [
              0.8888888888888888,
              "#fdca26"
             ],
             [
              1,
              "#f0f921"
             ]
            ],
            "type": "surface"
           }
          ],
          "table": [
           {
            "cells": {
             "fill": {
              "color": "#EBF0F8"
             },
             "line": {
              "color": "white"
             }
            },
            "header": {
             "fill": {
              "color": "#C8D4E3"
             },
             "line": {
              "color": "white"
             }
            },
            "type": "table"
           }
          ]
         },
         "layout": {
          "annotationdefaults": {
           "arrowcolor": "#2a3f5f",
           "arrowhead": 0,
           "arrowwidth": 1
          },
          "autotypenumbers": "strict",
          "coloraxis": {
           "colorbar": {
            "outlinewidth": 0,
            "ticks": ""
           }
          },
          "colorscale": {
           "diverging": [
            [
             0,
             "#8e0152"
            ],
            [
             0.1,
             "#c51b7d"
            ],
            [
             0.2,
             "#de77ae"
            ],
            [
             0.3,
             "#f1b6da"
            ],
            [
             0.4,
             "#fde0ef"
            ],
            [
             0.5,
             "#f7f7f7"
            ],
            [
             0.6,
             "#e6f5d0"
            ],
            [
             0.7,
             "#b8e186"
            ],
            [
             0.8,
             "#7fbc41"
            ],
            [
             0.9,
             "#4d9221"
            ],
            [
             1,
             "#276419"
            ]
           ],
           "sequential": [
            [
             0,
             "#0d0887"
            ],
            [
             0.1111111111111111,
             "#46039f"
            ],
            [
             0.2222222222222222,
             "#7201a8"
            ],
            [
             0.3333333333333333,
             "#9c179e"
            ],
            [
             0.4444444444444444,
             "#bd3786"
            ],
            [
             0.5555555555555556,
             "#d8576b"
            ],
            [
             0.6666666666666666,
             "#ed7953"
            ],
            [
             0.7777777777777778,
             "#fb9f3a"
            ],
            [
             0.8888888888888888,
             "#fdca26"
            ],
            [
             1,
             "#f0f921"
            ]
           ],
           "sequentialminus": [
            [
             0,
             "#0d0887"
            ],
            [
             0.1111111111111111,
             "#46039f"
            ],
            [
             0.2222222222222222,
             "#7201a8"
            ],
            [
             0.3333333333333333,
             "#9c179e"
            ],
            [
             0.4444444444444444,
             "#bd3786"
            ],
            [
             0.5555555555555556,
             "#d8576b"
            ],
            [
             0.6666666666666666,
             "#ed7953"
            ],
            [
             0.7777777777777778,
             "#fb9f3a"
            ],
            [
             0.8888888888888888,
             "#fdca26"
            ],
            [
             1,
             "#f0f921"
            ]
           ]
          },
          "colorway": [
           "#636efa",
           "#EF553B",
           "#00cc96",
           "#ab63fa",
           "#FFA15A",
           "#19d3f3",
           "#FF6692",
           "#B6E880",
           "#FF97FF",
           "#FECB52"
          ],
          "font": {
           "color": "#2a3f5f"
          },
          "geo": {
           "bgcolor": "white",
           "lakecolor": "white",
           "landcolor": "#E5ECF6",
           "showlakes": true,
           "showland": true,
           "subunitcolor": "white"
          },
          "hoverlabel": {
           "align": "left"
          },
          "hovermode": "closest",
          "mapbox": {
           "style": "light"
          },
          "paper_bgcolor": "white",
          "plot_bgcolor": "#E5ECF6",
          "polar": {
           "angularaxis": {
            "gridcolor": "white",
            "linecolor": "white",
            "ticks": ""
           },
           "bgcolor": "#E5ECF6",
           "radialaxis": {
            "gridcolor": "white",
            "linecolor": "white",
            "ticks": ""
           }
          },
          "scene": {
           "xaxis": {
            "backgroundcolor": "#E5ECF6",
            "gridcolor": "white",
            "gridwidth": 2,
            "linecolor": "white",
            "showbackground": true,
            "ticks": "",
            "zerolinecolor": "white"
           },
           "yaxis": {
            "backgroundcolor": "#E5ECF6",
            "gridcolor": "white",
            "gridwidth": 2,
            "linecolor": "white",
            "showbackground": true,
            "ticks": "",
            "zerolinecolor": "white"
           },
           "zaxis": {
            "backgroundcolor": "#E5ECF6",
            "gridcolor": "white",
            "gridwidth": 2,
            "linecolor": "white",
            "showbackground": true,
            "ticks": "",
            "zerolinecolor": "white"
           }
          },
          "shapedefaults": {
           "line": {
            "color": "#2a3f5f"
           }
          },
          "ternary": {
           "aaxis": {
            "gridcolor": "white",
            "linecolor": "white",
            "ticks": ""
           },
           "baxis": {
            "gridcolor": "white",
            "linecolor": "white",
            "ticks": ""
           },
           "bgcolor": "#E5ECF6",
           "caxis": {
            "gridcolor": "white",
            "linecolor": "white",
            "ticks": ""
           }
          },
          "title": {
           "x": 0.05
          },
          "xaxis": {
           "automargin": true,
           "gridcolor": "white",
           "linecolor": "white",
           "ticks": "",
           "title": {
            "standoff": 15
           },
           "zerolinecolor": "white",
           "zerolinewidth": 2
          },
          "yaxis": {
           "automargin": true,
           "gridcolor": "white",
           "linecolor": "white",
           "ticks": "",
           "title": {
            "standoff": 15
           },
           "zerolinecolor": "white",
           "zerolinewidth": 2
          }
         }
        },
        "xaxis": {
         "range": [
          0,
          29
         ],
         "title": {
          "text": "Number of Images"
         }
        },
        "yaxis": {
         "title": {
          "text": "Run Time (s)"
         }
        }
       }
      }
     },
     "metadata": {},
     "output_type": "display_data"
    }
   ],
   "source": [
    "# Lood data from pickle file (Time for Different Feature Detectors)\n",
    "\n",
    "fig3 = go.Figure()\n",
    "\n",
    "# Add trace for Brief detector\n",
    "fig3.add_trace(go.Scatter(\n",
    "    x = num_images,\n",
    "    y = brief_time,\n",
    "    mode = 'lines+markers',\n",
    "    marker = dict(\n",
    "        size = 5,\n",
    "        color = 'red',\n",
    "    ),\n",
    "    name='BRIEF'\n",
    "))\n",
    "\n",
    "\n",
    "# Add trace for Sift detector\n",
    "fig3.add_trace(go.Scatter(\n",
    "    x = num_images,\n",
    "    y = sift_time,\n",
    "    mode = 'lines+markers',\n",
    "    marker = dict(\n",
    "        size = 5,\n",
    "        color = 'blue',\n",
    "    ),\n",
    "    name = 'SIFT'\n",
    "))\n",
    "\n",
    "# Add trace for ORB detector\n",
    "fig3.add_trace(go.Scatter(\n",
    "    x = num_images,\n",
    "    y = orb_time,\n",
    "    mode = 'lines+markers',\n",
    "    marker = dict(\n",
    "        size = 5,\n",
    "        color = 'black',\n",
    "    ),\n",
    "    name = 'ORB'\n",
    "))\n",
    "\n",
    "fig3.update_layout(\n",
    "    legend=dict(\n",
    "    orientation=\"h\",\n",
    "    yanchor=\"bottom\",\n",
    "    y=1.02,\n",
    "    xanchor=\"right\",\n",
    "    x=1),\n",
    "    xaxis_title=\"Number of Images\",\n",
    "    yaxis_title=\"Run Time (s)\",\n",
    "    xaxis_range=[0, min_images],\n",
    ")\n",
    "\n",
    "fig3.show()"
   ]
  }
 ],
 "metadata": {
  "kernelspec": {
   "display_name": "venv",
   "language": "python",
   "name": "python3"
  },
  "language_info": {
   "codemirror_mode": {
    "name": "ipython",
    "version": 3
   },
   "file_extension": ".py",
   "mimetype": "text/x-python",
   "name": "python",
   "nbconvert_exporter": "python",
   "pygments_lexer": "ipython3",
   "version": "3.10.0"
  },
  "orig_nbformat": 4,
  "vscode": {
   "interpreter": {
    "hash": "17b5b05f78ee3c45507b509fccef454711b17abb6a81ec9706d3d8a4927d36a3"
   }
  }
 },
 "nbformat": 4,
 "nbformat_minor": 2
}
